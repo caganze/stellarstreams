{
 "cells": [
  {
   "cell_type": "code",
   "execution_count": 7,
   "id": "71e2844c",
   "metadata": {},
   "outputs": [],
   "source": [
    "import astropy.units as u\n",
    "import numpy as np\n",
    "import gala.potential as gp\n",
    "import gala.dynamics as gd\n",
    "from gala.dynamics import mockstream as ms\n",
    "from gala.units import galactic\n",
    "from astropy.coordinates import SkyCoord, Distance\n",
    "#import popsims\n",
    "import matplotlib.pyplot as plt\n",
    "from popsims.plot_style import  plot_style\n",
    "from astropy.coordinates import SkyCoord\n",
    "import astropy.coordinates as astro_coord\n",
    "import astropy.units as u\n",
    "from tqdm import tqdm\n",
    "\n",
    "plot_style()\n",
    "%matplotlib inline"
   ]
  },
  {
   "cell_type": "code",
   "execution_count": 15,
   "id": "09748387",
   "metadata": {},
   "outputs": [],
   "source": [
    "\n",
    "#coords standards\n",
    "_ = astro_coord.galactocentric_frame_defaults.set('v4.0')\n",
    "\n",
    "#galactocentric reference frame\n",
    "v_sun = astro_coord.CartesianDifferential([8.4, 251.8, 8.4]*u.km/u.s)\n",
    "galcen_frame = astro_coord.Galactocentric(galcen_distance=8.275*u.kpc, galcen_v_sun=v_sun)\n",
    "\n",
    "\n",
    "pot=gp.MilkyWayPotential()\n",
    "H = gp.Hamiltonian(pot)\n",
    "\n",
    "#stream configuration (by trial and error)\n",
    "\n",
    "#PARAMETERS FOR PREFERED LENGTH AT 10 KPC\n",
    "TF10=2500*u.Myr\n",
    "TCOL10=900*u.Myr\n",
    "\n",
    "#palomar 5 present day coordinates\n",
    "\n",
    "pal5_c = astro_coord.SkyCoord(ra=229.022*u.degree, dec= -0.112*u.degree,#vasiliev 2019\n",
    "                   distance=20.6*u.kpc,#APW 2019\n",
    "                   pm_ra_cosdec= -2.736*u.mas/u.yr, #vasiliev 2019\n",
    "                   pm_dec=-2.646*u.mas/u.yr, #vasiliev 2019\n",
    "                   radial_velocity= -58.60*u.km/u.s)#vasiliev 2019\n",
    "\n",
    "cg= pal5_c.transform_to(galcen_frame)"
   ]
  },
  {
   "cell_type": "code",
   "execution_count": 16,
   "id": "c3b207bf",
   "metadata": {},
   "outputs": [],
   "source": [
    "#13*u.Gyr\n",
    "\n",
    "#770 *u.kp\n",
    "#---> how big is the spread if we add \n",
    "#m, age, meta, cfht, roman i\n",
    "#i can go back to scalE\n",
    "#option 2 --> 10 kpc x 10 kpc\n",
    "# for the model of M31 --> We can use Ibata et al. 2014\n",
    "# make a model of M31,density flattening parameter and slope\n",
    "# change the age distribution to the PAPER \n",
    "# HST WFC3, 2019\n",
    "# MAKE A 3D visualization\n",
    "# you can assign x,y,z coordinates in the halo of M31\n",
    "# try adding brown dwarfs --> point\n",
    "# send a density model plot to everyone"
   ]
  },
  {
   "cell_type": "code",
   "execution_count": 17,
   "id": "6d55b43e",
   "metadata": {},
   "outputs": [
    {
     "ename": "NameError",
     "evalue": "name 'pos_tf' is not defined",
     "output_type": "error",
     "traceback": [
      "\u001b[0;31m---------------------------------------------------------------------------\u001b[0m",
      "\u001b[0;31mNameError\u001b[0m                                 Traceback (most recent call last)",
      "Input \u001b[0;32mIn [17]\u001b[0m, in \u001b[0;36m<cell line: 3>\u001b[0;34m()\u001b[0m\n\u001b[1;32m      1\u001b[0m df \u001b[38;5;241m=\u001b[39m ms\u001b[38;5;241m.\u001b[39mFardalStreamDF()\n\u001b[1;32m      2\u001b[0m gen \u001b[38;5;241m=\u001b[39m ms\u001b[38;5;241m.\u001b[39mMockStreamGenerator(df, H)\n\u001b[0;32m----> 3\u001b[0m mock_st, mock_pos\u001b[38;5;241m=\u001b[39mgen\u001b[38;5;241m.\u001b[39mrun( \u001b[43mpos_tf\u001b[49m, mstream, dt\u001b[38;5;241m=\u001b[39mdt, t1\u001b[38;5;241m=\u001b[39m\u001b[38;5;241m0\u001b[39m\u001b[38;5;241m*\u001b[39mu\u001b[38;5;241m.\u001b[39mMyr, t2\u001b[38;5;241m=\u001b[39m tcollision ,\\\n\u001b[1;32m      4\u001b[0m                                     nbody\u001b[38;5;241m=\u001b[39m\u001b[38;5;28;01mNone\u001b[39;00m, n_particles\u001b[38;5;241m=\u001b[39m\u001b[38;5;28mint\u001b[39m(NSTARS\u001b[38;5;241m/\u001b[39m((tcollision\u001b[38;5;241m/\u001b[39m(dt))\u001b[38;5;241m.\u001b[39mvalue)), progress\u001b[38;5;241m=\u001b[39m\u001b[38;5;28;01mTrue\u001b[39;00m,   release_every\u001b[38;5;241m=\u001b[39m\u001b[38;5;241m1\u001b[39m)\n",
      "\u001b[0;31mNameError\u001b[0m: name 'pos_tf' is not defined"
     ]
    }
   ],
   "source": [
    "df = ms.FardalStreamDF()\n",
    "gen = ms.MockStreamGenerator(df, H)\n",
    "mock_st, mock_pos=gen.run( cg, 10**5*u.Msun, dt=1, t1=0*u.Myr, t2= tcollision ,\\\n",
    "                                    nbody=None, n_particles=int(NSTARS/((tcollision/(dt)).value)), progress=True,   release_every=1)\n"
   ]
  },
  {
   "cell_type": "code",
   "execution_count": null,
   "id": "8bdee8a3",
   "metadata": {},
   "outputs": [],
   "source": []
  }
 ],
 "metadata": {
  "kernelspec": {
   "display_name": "Python 3 (ipykernel)",
   "language": "python",
   "name": "python3"
  },
  "language_info": {
   "codemirror_mode": {
    "name": "ipython",
    "version": 3
   },
   "file_extension": ".py",
   "mimetype": "text/x-python",
   "name": "python",
   "nbconvert_exporter": "python",
   "pygments_lexer": "ipython3",
   "version": "3.9.12"
  }
 },
 "nbformat": 4,
 "nbformat_minor": 5
}
