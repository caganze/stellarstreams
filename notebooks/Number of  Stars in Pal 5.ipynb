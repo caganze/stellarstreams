{
 "cells": [
  {
   "cell_type": "code",
   "execution_count": 1,
   "id": "c15ecb33",
   "metadata": {},
   "outputs": [],
   "source": [
    "#!/usr/bin/env python\n",
    "# coding: utf-8\n",
    "\n",
    "# In[1]:\n",
    "\n",
    "\n",
    "import astropy.units as u\n",
    "import numpy as np\n",
    "from astropy.coordinates import SkyCoord, Distance\n",
    "#import popsims\n",
    "import matplotlib.pyplot as plt\n",
    "from popsims.plot_style import  plot_style\n",
    "from astropy.coordinates import SkyCoord\n",
    "import astropy.coordinates as astro_coord\n",
    "import astropy.units as u\n",
    "from tqdm import tqdm\n",
    "from popsims.galaxy import Disk, Halo, GalacticComponent\n",
    "from popsims import sample_from_powerlaw\n",
    "import popsims\n",
    "from gala.units import UnitSystem\n",
    "import pandas as pd\n",
    "from scipy.interpolate import interp1d, griddata, InterpolatedUnivariateSpline\n",
    "from astropy.io.votable import parse_single_table\n",
    "import numba\n",
    "plot_style()\n",
    "import warnings\n",
    "warnings.filterwarnings(\"ignore\")\n",
    "import glob\n",
    "from tqdm import tqdm\n",
    "#get_ipython().run_line_magic('matplotlib', 'inline')\n",
    "\n",
    "\n",
    "# In[2]:\n",
    "\n",
    "\n",
    "path_plot = '/users/caganze/research/stellarstreams/figures/'\n",
    "path_isochrones = '/users/caganze/research/stellarstreams/data/isochrones/'\n",
    "path_pandas= '/users/caganze/research/stellarstreams/data/pandas/'\n",
    "\n",
    "mag_keys=['gmag', 'imag', 'F062mag', 'F087mag']\n",
    "\n",
    "\n"
   ]
  },
  {
   "cell_type": "code",
   "execution_count": null,
   "id": "1e9d9ba0",
   "metadata": {},
   "outputs": [],
   "source": []
  },
  {
   "cell_type": "code",
   "execution_count": null,
   "id": "5e646258",
   "metadata": {},
   "outputs": [],
   "source": []
  },
  {
   "cell_type": "code",
   "execution_count": 11,
   "id": "f714492b",
   "metadata": {},
   "outputs": [],
   "source": [
    "def count_pal5_stars(mag_limit, dmod):\n",
    "    \n",
    "    dmod_pal5=16.85\n",
    "    \n",
    "    def read_pandas_isochrones():\n",
    "        from astropy.io import ascii\n",
    "        return ascii.read(path_isochrones+'/cfht_pre2014_isochrones_pal5.txt').to_pandas()\n",
    "\n",
    "    def read_roman_isochrones():\n",
    "        from astropy.io import ascii\n",
    "        return ascii.read(path_isochrones+'/roman_isochrones_vega_pal5.txt').to_pandas()\n",
    "    \n",
    "    nsample=1e6\n",
    "    masses= sample_from_powerlaw(-5, xmin=0.09, xmax=120, nsample=nsample)\n",
    "    cfht=read_pandas_isochrones()\n",
    "    roman= read_roman_isochrones()\n",
    "    comb= pd.concat([cfht, roman]).reset_index()\n",
    "    \n",
    "    \n",
    "    isos={}\n",
    "    for k in mag_keys:\n",
    "        x= np.log10(comb.Mini.values)\n",
    "        y=comb[k].values\n",
    "        nans=np.logical_or(np.isnan(x), np.isnan(y))\n",
    "        isos['mass']= masses\n",
    "        f=griddata(x[~nans], y[~nans], np.log10(masses) , fill_value=np.nan, method='linear', rescale=True)\n",
    "        isos.update({k: f+dmod_pal5})\n",
    "    \n",
    "    df=pd.DataFrame(isos)\n",
    "    \n",
    "    num_20_23= len(df.gmag.values[np.logical_and(df.gmag.values>=20, df.gmag.values<=23)])\n",
    "    norm= (3000/num_20_23)\n",
    "    \n",
    "    #compute the difference between distance moduli and offset stars\n",
    "    dist_mod_And = dmod- dmod_pal5\n",
    "    \n",
    "    return len(df.F087mag.values[df.F087mag.values<(mag_limit-dist_mod_And)])*norm"
   ]
  },
  {
   "cell_type": "code",
   "execution_count": 14,
   "id": "8f44a326",
   "metadata": {},
   "outputs": [
    {
     "data": {
      "text/plain": [
       "0.0"
      ]
     },
     "execution_count": 14,
     "metadata": {},
     "output_type": "execute_result"
    }
   ],
   "source": []
  },
  {
   "cell_type": "code",
   "execution_count": null,
   "id": "454f8eba",
   "metadata": {},
   "outputs": [],
   "source": []
  }
 ],
 "metadata": {
  "kernelspec": {
   "display_name": "Python 3 (ipykernel)",
   "language": "python",
   "name": "python3"
  },
  "language_info": {
   "codemirror_mode": {
    "name": "ipython",
    "version": 3
   },
   "file_extension": ".py",
   "mimetype": "text/x-python",
   "name": "python",
   "nbconvert_exporter": "python",
   "pygments_lexer": "ipython3",
   "version": "3.9.12"
  }
 },
 "nbformat": 4,
 "nbformat_minor": 5
}
