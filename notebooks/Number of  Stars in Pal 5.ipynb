{
 "cells": [
  {
   "cell_type": "code",
   "execution_count": 1,
   "id": "e6922159",
   "metadata": {},
   "outputs": [],
   "source": [
    "#!/usr/bin/env python\n",
    "# coding: utf-8\n",
    "\n",
    "# In[1]:\n",
    "\n",
    "\n",
    "import astropy.units as u\n",
    "import numpy as np\n",
    "from astropy.coordinates import SkyCoord, Distance\n",
    "#import popsims\n",
    "import matplotlib.pyplot as plt\n",
    "from popsims.plot_style import  plot_style\n",
    "from astropy.coordinates import SkyCoord\n",
    "import astropy.coordinates as astro_coord\n",
    "import astropy.units as u\n",
    "from tqdm import tqdm\n",
    "from popsims.galaxy import Disk, Halo, GalacticComponent\n",
    "from popsims import sample_from_powerlaw\n",
    "import popsims\n",
    "from gala.units import UnitSystem\n",
    "import pandas as pd\n",
    "from scipy.interpolate import interp1d, griddata, InterpolatedUnivariateSpline\n",
    "from astropy.io.votable import parse_single_table\n",
    "import numba\n",
    "plot_style()\n",
    "import warnings\n",
    "warnings.filterwarnings(\"ignore\")\n",
    "import glob\n",
    "from tqdm import tqdm\n",
    "#get_ipython().run_line_magic('matplotlib', 'inline')\n",
    "\n",
    "\n",
    "# In[2]:\n",
    "\n",
    "\n",
    "path_plot = '/users/caganze/research/stellarstreams/figures/'\n",
    "path_isochrones = '/users/caganze/research/stellarstreams/data/isochrones/'\n",
    "path_pandas= '/users/caganze/research/stellarstreams/data/pandas/'\n",
    "\n",
    "mag_keys=['gmag', 'imag', 'F062mag', 'F087mag']\n",
    "\n",
    "\n",
    "def read_pandas_isochrones():\n",
    "    from astropy.io import ascii\n",
    "    return ascii.read(path_isochrones+'/cfht_pre2014_isochrones.txt').to_pandas()\n",
    "\n",
    "def read_roman_isochrones():\n",
    "    from astropy.io import ascii\n",
    "    return ascii.read(path_isochrones+'/roman_isochrones_vega.txt').to_pandas()\n",
    "\n",
    "def combined_isochrones():\n",
    "    from astropy.io import ascii\n",
    "    fls= glob.glob(path_isochrones+'/*.txt')\n",
    "    dfs=[]\n",
    "    for f in fls:\n",
    "        dfs.append(ascii.read(f).to_pandas())\n",
    "    comb_isos=pd.concat(dfs).reset_index(drop=True)\n",
    "    return comb_isos  "
   ]
  },
  {
   "cell_type": "code",
   "execution_count": 2,
   "id": "efe07ee1",
   "metadata": {},
   "outputs": [],
   "source": [
    "isos= combined_isochrones()\n"
   ]
  },
  {
   "cell_type": "code",
   "execution_count": null,
   "id": "e347011b",
   "metadata": {},
   "outputs": [],
   "source": [
    "pal5_isos=isos."
   ]
  }
 ],
 "metadata": {
  "kernelspec": {
   "display_name": "Python 3 (ipykernel)",
   "language": "python",
   "name": "python3"
  },
  "language_info": {
   "codemirror_mode": {
    "name": "ipython",
    "version": 3
   },
   "file_extension": ".py",
   "mimetype": "text/x-python",
   "name": "python",
   "nbconvert_exporter": "python",
   "pygments_lexer": "ipython3",
   "version": "3.9.12"
  }
 },
 "nbformat": 4,
 "nbformat_minor": 5
}
