{
 "cells": [
  {
   "cell_type": "code",
   "execution_count": 1,
   "id": "07c76bdd",
   "metadata": {},
   "outputs": [],
   "source": [
    "# In[1]:\n",
    "\n",
    "\n",
    "import astropy.units as u\n",
    "import numpy as np\n",
    "from astropy.coordinates import SkyCoord, Distance\n",
    "#import popsims\n",
    "import matplotlib.pyplot as plt\n",
    "from popsims.plot_style import  plot_style\n",
    "from astropy.coordinates import SkyCoord\n",
    "import astropy.coordinates as astro_coord\n",
    "import astropy.units as u\n",
    "from tqdm import tqdm\n",
    "from popsims.galaxy import Disk, Halo, GalacticComponent\n",
    "from popsims import sample_from_powerlaw\n",
    "import popsims\n",
    "from gala.units import UnitSystem\n",
    "import pandas as pd\n",
    "from scipy.interpolate import interp1d, griddata, InterpolatedUnivariateSpline\n",
    "from astropy.io.votable import parse_single_table\n",
    "import numba\n",
    "plot_style()\n",
    "import warnings\n",
    "warnings.filterwarnings(\"ignore\")\n",
    "import glob\n",
    "from tqdm import tqdm\n",
    "#get_ipython().run_line_magic('matplotlib', 'inline')\n",
    "\n",
    "\n",
    "# In[2]:\n",
    "\n",
    "\n",
    "path_isochrone='../data/isochrones/'\n",
    "path_data='../data/images/'\n",
    "path_streamdata='../data/stream/'\n",
    "path_pipeline='../data/pipeline/'\n",
    "path_pandas= '../data/pandas/'"
   ]
  },
  {
   "cell_type": "code",
   "execution_count": 2,
   "id": "37138054",
   "metadata": {},
   "outputs": [],
   "source": [
    "class M31Halo(GalacticComponent):\n",
    "    \"\"\"\n",
    "    power-law stellar density for M31's halo by Ibata et al. 2014\n",
    "    \n",
    "    \"\"\"\n",
    "    def __init__(self, q=1.11, gamma=-3):\n",
    "        super().__init__({'q': q, 'gamma': gamma})\n",
    "\n",
    "    def stellar_density(self, r, z):\n",
    "        \"\"\"\n",
    "        Compute the stellar density at a particular position\n",
    "\n",
    "        Args:\n",
    "        ----\n",
    "            x, y, z: galacto-centric x, y,z ( astropy.quantity )\n",
    "        Returns:\n",
    "        -------\n",
    "            unit-less stellar density\n",
    "\n",
    "        Examples:\n",
    "        --------\n",
    "            > d = Disk.stellar_density(100*u.pc, -100*u.pc)\n",
    "        \"\"\"\n",
    "        #add a raise error if r <0\n",
    "        \n",
    "        s= (r**2+(z/self.q)**2)**0.5\n",
    "\n",
    "        return s**self.gamma"
   ]
  },
  {
   "cell_type": "code",
   "execution_count": 17,
   "id": "6506140c",
   "metadata": {},
   "outputs": [],
   "source": [
    "nsample=1e4\n",
    "d_M31=770*u.kpc\n",
    "model=M31Halo()\n",
    "ds=np.concatenate([model.sample_distances(0.1, 200_000, 1000,  dsteps=1000) for x in range(0, 100)])\n",
    "ds=np.random.choice(ds, int(nsample))\n",
    "\n",
    "eta= 2*np.pi*np.random.uniform(0, 1, len(ds))\n",
    "xi= np.arccos(2*np.random.uniform(0, 1, len(ds))-1)-np.pi/2\n",
    "r, z= popsims.galaxy.transform_tocylindrical(eta, xi, ds)\n",
    "\n",
    "#get x, y as xl cos b or something\n",
    "#add the center for M31\n",
    "distances_to_use=d_M31.to(u.pc).value+z\n",
    "\n",
    "mw_model=Disk(L=2600, H=350)+0.12*Disk(L=3600, H=900)+0.0025*Halo()\n",
    "    \n",
    "ds=np.concatenate([mw_model.sample_distances(0.1, 200_000, 1000,  dsteps=1000) for x in range(0, 100)])\n",
    "l= 2*np.pi*np.random.uniform(0, 1, len(ds))\n",
    "b= np.arccos(2*np.random.uniform(0, 1, len(ds))-1)-np.pi/2\n",
    "rm, zm= popsims.galaxy.transform_tocylindrical(l, b, ds)\n"
   ]
  },
  {
   "cell_type": "code",
   "execution_count": 31,
   "id": "abeb118d",
   "metadata": {},
   "outputs": [
    {
     "data": {
      "text/plain": [
       "[Text(0, 0.5, 'Normalized Density of Stars'), Text(0.5, 0, 'R (kpc)')]"
      ]
     },
     "execution_count": 31,
     "metadata": {},
     "output_type": "execute_result"
    },
    {
     "data": {
      "image/png": "[encoded data removed]",
      "text/plain": [
       "<Figure size 640x480 with 1 Axes>"
      ]
     },
     "metadata": {},
     "output_type": "display_data"
    }
   ],
   "source": [
    "fig, ax=plt.subplots()\n",
    "_= plt.hist( np.abs(r/1000),  bins='auto', histtype='step', \n",
    "            density=True, log=True, label='M31', linewidth=3)\n",
    "_= plt.hist( np.abs(rm/1000), bins=100,  histtype='step',\\\n",
    "            density=True, log=True, label='MW',  linewidth=3)\n",
    "plt.legend()\n",
    "ax.minorticks_on()\n",
    "ax.set(ylabel='Normalized Density of Stars', xlabel=r'R (kpc)')\n"
   ]
  },
  {
   "cell_type": "code",
   "execution_count": 5,
   "id": "487a6fa9",
   "metadata": {},
   "outputs": [],
   "source": [
    "rgc='50_60'\n",
    "fname=path_isochrone+'simulated_df_at_M31_normalized_extended_rgc{}.csv'.format(rgc)\n",
    "df=pd.read_csv(fname)\n",
    "\n",
    "#put to the desired distance modulus \n",
    "mw_df= df.query(\"galaxy == 'MW'\").reset_index(drop=True)\n",
    "m31_df= df.query(\"galaxy =='M31'\").reset_index(drop=True)"
   ]
  },
  {
   "cell_type": "code",
   "execution_count": null,
   "id": "706b60fd",
   "metadata": {},
   "outputs": [],
   "source": [
    "fig, ax=plt.subplots(ncols=2, figsize=(10*1.5, 4*1.5))\n",
    "\n",
    "ax[0].set(title='M31')\n",
    "ax[1].set(title='Milky Way')\n",
    "ax[0].scatter(m31_df.appF062mag-m31_df.appF087mag, m31_df.appF087mag, s=.1, \\\n",
    "              c=m31_df.MH,  cmap='cividis', vmin=-2.5, vmax=0.5)\n",
    "ax[0].invert_yaxis()\n",
    "ax[0].set(ylim=[35, 15])\n",
    "\n",
    "\n",
    "ax[1].scatter(mw_df.appF062mag-mw_df.appF087mag, mw_df.appF087mag, s=.1, \\\n",
    "              c=mw_df.MH,  cmap='cividis',  vmin=-2.5, vmax=0.5)\n",
    "ax[1].invert_yaxis()\n",
    "ax[1].set(ylim=[35, 15])\n",
    "\n",
    "for a in ax:\n",
    "    a.axhline(28.59, linestyle='-')\n",
    "    a.axhline(27.15, linestyle='--')\n",
    "    a.set(xlabel= 'R062-Z087', ylabel='Z087')\n",
    "plt.tight_layout()\n",
    "\n",
    "plt.savefig('../simulated_CMD_CFHT.jpeg')"
   ]
  },
  {
   "cell_type": "code",
   "execution_count": 10,
   "id": "158d1976",
   "metadata": {},
   "outputs": [],
   "source": [
    "fig,a"
   ]
  },
  {
   "cell_type": "code",
   "execution_count": null,
   "id": "5359bbc2",
   "metadata": {},
   "outputs": [],
   "source": []
  }
 ],
 "metadata": {
  "kernelspec": {
   "display_name": "Python 3 (ipykernel)",
   "language": "python",
   "name": "python3"
  },
  "language_info": {
   "codemirror_mode": {
    "name": "ipython",
    "version": 3
   },
   "file_extension": ".py",
   "mimetype": "text/x-python",
   "name": "python",
   "nbconvert_exporter": "python",
   "pygments_lexer": "ipython3",
   "version": "3.9.12"
  }
 },
 "nbformat": 4,
 "nbformat_minor": 5
}
