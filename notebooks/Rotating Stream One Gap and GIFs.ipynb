{
 "cells": [
  {
   "cell_type": "code",
   "execution_count": 1,
   "id": "dee245b0",
   "metadata": {},
   "outputs": [],
   "source": [
    "#make one gap with 10^6 halo\n",
    "import astropy.units as u\n",
    "import numpy as np\n",
    "import gala.potential as gp\n",
    "import gala.dynamics as gd\n",
    "from gala.dynamics import mockstream as ms\n",
    "from gala.units import galactic\n",
    "from astropy.coordinates import SkyCoord, Distance\n",
    "\n",
    "import matplotlib.pyplot as plt\n",
    "\n",
    "from tqdm import tqdm\n",
    "from astropy.constants import G\n",
    "from gala.units import galactic\n",
    "import gala.coordinates as gc\n",
    "import  h5py\n",
    "import imageio\n",
    "import seaborn as sns\n",
    "import matplotlib as mpl\n",
    "import matplotlib.animation as animation\n",
    "import astropy.coordinates as astro_coord\n",
    "import glob\n",
    "import pandas as pd\n",
    "sns.set_style(\"dark\")\n",
    "mpl.rc('xtick', labelsize=16) \n",
    "mpl.rc('ytick', labelsize=16) \n",
    "font = {'axes.titlesize'      : 'large',   # fontsize of the axes title\n",
    "        'axes.labelsize'      : 'large', # fontsize of the x any y labels\n",
    "        'size'   : 20}\n",
    "import astropy.units as u\n",
    "from astropy.io import ascii\n",
    "import itertools\n",
    "from scipy import stats\n",
    "#paths\n",
    "\n",
    "#paths\n",
    "path_plot = '/users/caganze/research/stellarstreams/figures/paper/'\n",
    "path_data = '/users/caganze/research/stellarstreams/data/rotating/'\n",
    "isochrone_path='/users/caganze/research/stellarstreams/data/isochrones/'\n",
    "\n",
    "\n",
    "from matplotlib.gridspec import GridSpec\n",
    "%matplotlib inline\n",
    "#%matplotlib notebook"
   ]
  },
  {
   "cell_type": "code",
   "execution_count": 2,
   "id": "3111cd09",
   "metadata": {},
   "outputs": [
    {
     "data": {
      "image/png": "[encoded data removed]",
      "text/plain": [
       "<Figure size 864x288 with 3 Axes>"
      ]
     },
     "metadata": {
      "needs_background": "light"
     },
     "output_type": "display_data"
    }
   ],
   "source": [
    "# generating the stream that is used in the N-body simulation\n",
    "#galactocentric reference frame\n",
    "v_sun = astro_coord.CartesianDifferential([11.1, 220 + 24.0, 7.25]*u.km/u.s)\n",
    "galcen_frame =astro_coord.Galactocentric(galcen_distance=8.*u.kpc,\n",
    "                                    galcen_v_sun=v_sun)\n",
    "\n",
    "df = ms.FardalStreamDF()\n",
    "        \n",
    "gd1_w0=gd.PhaseSpacePosition(SkyCoord(x=0*u.kpc, y=0* u.kpc,z=10*u.kpc, \\\n",
    "                                                v_x=150*u.km/u.s, v_y=150*u.km/u.s, v_z=0*u.km/u.s,\\\n",
    "                                                 frame=galcen_frame).cartesian)\n",
    "\n",
    "#potential\n",
    "MWPOT = gp.MilkyWayPotential()\n",
    "H = gp.Hamiltonian(MWPOT)\n",
    "\n",
    "#stream potential\n",
    "gd1_mass = 3e4 * u.Msun\n",
    "gd1_pot = gp.PlummerPotential(m=gd1_mass, b=5*u.pc, units=galactic)\n",
    "\n",
    "\n",
    "#integrate back to create a stream\n",
    "gen_gd1 = ms.MockStreamGenerator(df, MWPOT, progenitor_potential=gd1_pot)\n",
    "stream, nbody = gen_gd1.run(gd1_w0, gd1_mass,\n",
    "                                dt=-1 * u.Myr, n_steps=1500)\n",
    "\n",
    "\n",
    "w0_now = gd.PhaseSpacePosition(stream.data, stream.vel)\n",
    "\n",
    "t_int=1500\n",
    "\n",
    "orbit = MWPOT.integrate_orbit(w0_now, dt=-1*u.Myr, n_steps=int(t_int))\n",
    "old_stream = orbit[-1]\n",
    "\n",
    "#choose impact position somewhere in the tail\n",
    "impact_site= np.logical_and.reduce( [np.abs(old_stream.pos.x.value-np.mean(old_stream.pos.x.value)) >.3,\n",
    "                                    np.abs(old_stream.pos.y.value-np.mean(old_stream.pos.y.value)) >.3, \\\n",
    "                                     np.abs(old_stream.pos.z.value-np.mean(old_stream.pos.z.value)) >.3])\n",
    "\n",
    "#site_at_impact_w0 = gd.PhaseSpacePosition(pos=np.mean(old_stream.pos), \\\n",
    "#                                          vel=np.mean(old_stream.vel\n",
    "site_at_impact_w0=gd.PhaseSpacePosition(pos=old_stream.pos[impact_site][0], \\\n",
    "                                          vel=old_stream.vel[impact_site][0])\n",
    "#visualize\n",
    "fig, ax=plt.subplots(ncols=3, figsize=(12, 4))\n",
    "ax[0].scatter(old_stream.pos.x, old_stream.pos.y, s=1)\n",
    "ax[1].scatter(old_stream.pos.x, old_stream.pos.z, s=1)\n",
    "ax[-1].scatter(old_stream.pos.y, old_stream.pos.z, s=1)\n",
    "\n",
    "ax[0].scatter(site_at_impact_w0.pos.x, site_at_impact_w0.pos.y, s=200, marker='x')\n",
    "ax[1].scatter(site_at_impact_w0.pos.x, site_at_impact_w0.pos.z, s=200, marker='x')\n",
    "ax[-1].scatter(site_at_impact_w0.pos.y, site_at_impact_w0.pos.z, s=200, marker='x')\n",
    "\n",
    "ax[0].set(xlabel='x (kpc)', ylabel='y (kpc)')\n",
    "ax[1].set(xlabel='x (kpc)', ylabel='z (kpc)')\n",
    "ax[-1].set(xlabel='y (kpc)', ylabel='z (kpc)')\n",
    "#vxstream, vystream, vzstream not defined in this file but its just the velocity of the stream\n",
    "#jk\n",
    "# ---------------------------------------------------#\n",
    "\n",
    "\n",
    "### These are the important definitions. The lines above are just to show how the stuff used in here are originally defined\n",
    "def get_cyl_rotation(site_at_impact_w0): #borrowed from Adrian Price-Whelan's streampunch github repo\n",
    "    L = site_at_impact_w0.angular_momentum()\n",
    "    v = site_at_impact_w0.v_xyz\n",
    "\n",
    "    new_z = v / np.linalg.norm(v, axis=0)\n",
    "    new_x = L / np.linalg.norm(L, axis=0)\n",
    "    new_y = -np.cross(new_x, new_z)\n",
    "    R = np.stack((new_x, new_y, new_z))\n",
    "    return R\n",
    "\n",
    "\n",
    "def get_perturber_w0_at_impact(site_at_impact_w0, psi, v_rho, v_z, vpsi):\n",
    "\n",
    "    # Get the rotation matrix to rotate from Galactocentric to cylindrical\n",
    "    # impact coordinates at the impact site along the stream\n",
    "    R = get_cyl_rotation(site_at_impact_w0)\n",
    "\n",
    "    psi, v_rho, v_z, vpsi =  psi * u.rad, v_rho*u.km/u.s,  v_z * u.km/u.s, vpsi * u.rad/u.s\n",
    "\n",
    "    # Define the position of the perturber at the time of impact in the\n",
    "    # cylindrical impact coordinates:\n",
    "    perturber_pos = astro_coord.CylindricalRepresentation(rho=0*u.kpc, \n",
    "                                                    phi=psi,\n",
    "                                                    z=0*u.kpc) \n",
    "\n",
    "    # Define the velocity in the cylindrical impact coordinates:\n",
    "    #maybe we want this to have the same vz as the stream?\n",
    "    perturber_vel = astro_coord.CylindricalDifferential(\n",
    "        d_rho=v_rho,\n",
    "        d_phi=vpsi,\n",
    "        d_z=v_z)\n",
    "\n",
    "    # Transform from the cylindrical impact coordinates to Galactocentric\n",
    "    perturber_rep = perturber_pos.with_differentials(perturber_vel)\n",
    "    perturber_rep = perturber_rep.represent_as(\n",
    "        astro_coord.CartesianRepresentation, astro_coord.CartesianDifferential)\n",
    "    perturber_rep = perturber_rep.transform(R.T)\n",
    "\n",
    "    pos = perturber_rep.without_differentials() + site_at_impact_w0.pos\n",
    "    vel = perturber_rep.differentials['s'] + site_at_impact_w0.vel\n",
    "\n",
    "    # This should be in Galactocentric Cartesian coordinates now!\n",
    "    return gd.PhaseSpacePosition(pos, vel)"
   ]
  },
  {
   "cell_type": "code",
   "execution_count": 3,
   "id": "acef592e",
   "metadata": {},
   "outputs": [
    {
     "data": {
      "text/plain": [
       "<CylindricalRepresentation (rho, phi, z) in (kpc, rad, kpc)\n",
       "    (8.02333363, -2.35405061, 6.28697766)>"
      ]
     },
     "execution_count": 3,
     "metadata": {},
     "output_type": "execute_result"
    }
   ],
   "source": [
    "\n",
    "site_at_impact_w0.represent_as(astro_coord.CylindricalRepresentation).pos"
   ]
  },
  {
   "cell_type": "code",
   "execution_count": 4,
   "id": "58785bd0",
   "metadata": {},
   "outputs": [
    {
     "data": {
      "text/latex": [
       "$-137.80416 \\; \\mathrm{\\frac{km}{s}}$"
      ],
      "text/plain": [
       "<Quantity -137.80415507 km / s>"
      ]
     },
     "execution_count": 4,
     "metadata": {},
     "output_type": "execute_result"
    }
   ],
   "source": [
    "site_at_impact_w0.represent_as(astro_coord.CylindricalRepresentation).vel.d_rho.to(u.km/u.s)"
   ]
  },
  {
   "cell_type": "code",
   "execution_count": 5,
   "id": "050fa9d7",
   "metadata": {},
   "outputs": [
    {
     "data": {
      "text/latex": [
       "$169.41667 \\; \\mathrm{\\frac{km}{s}}$"
      ],
      "text/plain": [
       "<Quantity 169.41667395 km / s>"
      ]
     },
     "execution_count": 5,
     "metadata": {},
     "output_type": "execute_result"
    }
   ],
   "source": [
    "site_at_impact_w0.represent_as(astro_coord.CylindricalRepresentation).vel.d_z.to(u.km/u.s)"
   ]
  },
  {
   "cell_type": "code",
   "execution_count": null,
   "id": "44f71445",
   "metadata": {},
   "outputs": [],
   "source": []
  },
  {
   "cell_type": "code",
   "execution_count": 6,
   "id": "fb2817ec",
   "metadata": {},
   "outputs": [],
   "source": [
    "#assign a new velocity to the impact position, is this right?\n",
    "vel_tot= (((site_at_impact_w0.v_xyz.to(u.km/u.s)**2).sum())**0.5).value\n",
    "#impact_w0= gd.PhaseSpacePosition(pos=site_at_impact_w0.pos,\n",
    "#                                    vel=[0]*u.km/u.s)\n",
    "impact_w0= site_at_impact_w0\n",
    "\n",
    "#impact_w0= gd.PhaseSpacePosition(pos=site_at_impact_w0.pos,\n",
    "#                                vel=[100,1, 1]*u.km/u.s)"
   ]
  },
  {
   "cell_type": "code",
   "execution_count": 7,
   "id": "d26b4ad6",
   "metadata": {},
   "outputs": [],
   "source": [
    "#hit at random position with these paramaters\n",
    "#psi, v_rho (km/s), v_z (km/s, vpsi (km/s)\n",
    "frac=1e-3\n",
    "vpsi= ((1*u.km/u.s)/(0.1*u.kpc)).to(u.rad/u.s, u.dimensionless_angles()).value\n",
    "impact_vector=frac*(np.array([0., 1, 1, vpsi]))"
   ]
  },
  {
   "cell_type": "code",
   "execution_count": 8,
   "id": "81a1e243",
   "metadata": {},
   "outputs": [],
   "source": [
    "#choose impact position parameters, is this right?\n",
    "\n",
    "perpos=get_perturber_w0_at_impact(impact_w0, *impact_vector)\n",
    "#only\n"
   ]
  },
  {
   "cell_type": "code",
   "execution_count": 9,
   "id": "98850073",
   "metadata": {},
   "outputs": [
    {
     "data": {
      "text/plain": [
       "[Text(0.5, 0, 'y (kpc)'), Text(0, 0.5, 'z (kpc)')]"
      ]
     },
     "execution_count": 9,
     "metadata": {},
     "output_type": "execute_result"
    },
    {
     "data": {
      "image/png": "[encoded data removed]",
      "text/plain": [
       "<Figure size 864x288 with 3 Axes>"
      ]
     },
     "metadata": {
      "needs_background": "light"
     },
     "output_type": "display_data"
    }
   ],
   "source": [
    "#integrate the orbits the stream and subhalo back by -100 Gyr and then \n",
    "stream_bfimpct= MWPOT.integrate_orbit(old_stream, dt=-1*u.Myr, n_steps=int(100))[-1]\n",
    "\n",
    "#subhalo\n",
    "subhalo_bfimpct= MWPOT.integrate_orbit(perpos, dt=-1*u.Myr, n_steps=int(100))[-1]\n",
    "\n",
    "#visualize\n",
    "\n",
    "fig, ax=plt.subplots(ncols=3, figsize=(12, 4))\n",
    "ax[0].scatter(stream_bfimpct.pos.x, stream_bfimpct.pos.y, s=1)\n",
    "ax[1].scatter(stream_bfimpct.pos.x, stream_bfimpct.pos.z, s=1)\n",
    "ax[-1].scatter(stream_bfimpct.pos.y, stream_bfimpct.pos.z, s=1)\n",
    "\n",
    "ax[0].scatter(subhalo_bfimpct.pos.x, subhalo_bfimpct.pos.y, s=200, marker='o')\n",
    "ax[1].scatter(subhalo_bfimpct.pos.x, subhalo_bfimpct.pos.z, s=200, marker='o')\n",
    "ax[-1].scatter(subhalo_bfimpct.pos.y, subhalo_bfimpct.pos.z, s=200, marker='o')\n",
    "\n",
    "ax[0].set(xlabel='x (kpc)', ylabel='y (kpc)')\n",
    "ax[1].set(xlabel='x (kpc)', ylabel='z (kpc)')\n",
    "ax[-1].set(xlabel='y (kpc)', ylabel='z (kpc)')\n",
    "#vxstream, vystream, vzstream not defined in th"
   ]
  },
  {
   "cell_type": "code",
   "execution_count": 10,
   "id": "10516598",
   "metadata": {},
   "outputs": [
    {
     "name": "stdout",
     "output_type": "stream",
     "text": [
      "[0. 0. 0.] kpc\n",
      "[-0.00026562  0.00115326  0.00077423] km / s\n"
     ]
    }
   ],
   "source": [
    "print (perpos.xyz-site_at_impact_w0.xyz)\n",
    "print  (perpos.v_xyz-site_at_impact_w0.v_xyz)"
   ]
  },
  {
   "cell_type": "code",
   "execution_count": 11,
   "id": "7ac691e9",
   "metadata": {},
   "outputs": [],
   "source": [
    "def generate_stream_and_perturber(mass, prog_w0, timedict,  nbody=None, output_every=None,\n",
    "                                  output_filename=None, nstars=None):\n",
    "    \"\"\"\n",
    "    Input: mass of the progenitor, its position, other mockstream generator kwrargs\n",
    "    Returns: final stream and its position and velocity\n",
    "    \n",
    "    Calls mockstream generator\n",
    "    \n",
    "    \"\"\"\n",
    "\n",
    "    df = ms.FardalStreamDF()\n",
    "    prog_mass = mass * u.Msun\n",
    "     \n",
    "    gd1_pot = gp.PlummerPotential(m=mass, b=4*u.pc, units=galactic)\n",
    "\n",
    "    gen = ms.MockStreamGenerator(df, H,progenitor_potential=gd1_pot )\n",
    "\n",
    "    return gen.run(prog_w0, prog_mass, nbody=nbody,\\\n",
    "                   output_every=output_every, output_filename= output_filename, \\\n",
    "                check_filesize=True, overwrite=True, n_particles=int(nstars/len(timedict['t'])), \\\n",
    "                   progress=True, **timedict)\n",
    "\n",
    "\n",
    "def run_stream_and_subhalo(halo_mass, stream_mass, halo_r, halo_pos, stream_pos, timedict,\n",
    "                           filename='mockstream',\n",
    "                            output_every=1, potential_type='plummer', nstars=None):\n",
    "    \"\"\"\n",
    "    runs a subhalo and a stream \n",
    "    \n",
    "    returns the progenitor position and the final stream\n",
    "    \n",
    "    Takes in the parameters of the subhalos\n",
    "    \n",
    "    \"\"\"\n",
    "    \n",
    "    #create a plummer sphere \n",
    "    point_potential=gp.PlummerPotential(halo_mass*u.Msun,  halo_r*u.pc, units=galactic)\n",
    "    \n",
    "    #if potential_type\n",
    "    if  potential_type.lower()=='hern':\n",
    "        point_potential=gp.HernquistPotential(halo_mass*u.Msun,  halo_r*u.pc, units=galactic)\n",
    "        \n",
    "    #create an Nbody potential object\n",
    "    Massive_body=gd.DirectNBody(halo_pos, [point_potential], external_potential=MWPOT )\n",
    "    \n",
    "    return  generate_stream_and_perturber(stream_mass,  stream_pos, timedict, \\\n",
    "                                      nbody=Massive_body,\n",
    "                                          nstars=nstars,\n",
    "                                    output_every=output_every, \\\n",
    "                                    output_filename=path_data+'/'+filename+'.h5')"
   ]
  },
  {
   "cell_type": "code",
   "execution_count": 12,
   "id": "9ba0a837",
   "metadata": {},
   "outputs": [],
   "source": [
    "#visualize impact "
   ]
  },
  {
   "cell_type": "code",
   "execution_count": 13,
   "id": "19e6d187",
   "metadata": {},
   "outputs": [],
   "source": [
    "#integrate forward to 200 yr\n",
    "T={'t':np.linspace(0*u.Myr,3000*u.Myr, 1000 )}\n",
    "#mean stream position\n",
    "st_x=gd.PhaseSpacePosition(pos= np.mean(stream_bfimpct.pos).xyz,\n",
    "                            vel=[np.mean(stream_bfimpct.vel).d_x.value, \\\n",
    "                                 np.mean(stream_bfimpct.vel).d_y.value,\\\n",
    "                                 np.mean(stream_bfimpct.vel).d_z.value]*u.kpc/u.Myr)\n",
    "\n",
    "halo_x= gd.PhaseSpacePosition(pos= subhalo_bfimpct.pos,\n",
    "                                vel=subhalo_bfimpct.vel)\n",
    "\n",
    "mhalo=10**6\n",
    "rhalo=1005*((mhalo/10**8)**0.5)\n",
    "#rhalo=0.01\n",
    "\n",
    "#res= run_stream_and_subhalo(mhalo, gd1_mass, rhalo, halo_x, st_x, T,\n",
    "#                           filename=filename, nstars=1000,\n",
    "#                            output_every=1, potential_type='hern')"
   ]
  },
  {
   "cell_type": "code",
   "execution_count": null,
   "id": "656e3f9a",
   "metadata": {},
   "outputs": [],
   "source": []
  },
  {
   "cell_type": "code",
   "execution_count": 14,
   "id": "7e506dca",
   "metadata": {},
   "outputs": [],
   "source": [
    "\n",
    "#visualize impact  \n",
    "def compute_and_plot_distance_stream_halo(filename, T):\n",
    "    \n",
    "    bd, st=read_stream_file(filename+'.h5')\n",
    "    #st_pos=st['pos'][:,0]\n",
    "    bd_pos= bd['pos'][:, :,0]\n",
    "    st_pos= bd['pos'][:, :,1]\n",
    "    \n",
    "    fig, ax=plt.subplots(figsize=(12, 4))\n",
    "    \n",
    "    ax.plot(T['t'], np.nansum((st_pos-bd_pos)**2, axis=0)**0.5, linewidth=3)\n",
    "    \n",
    "    ax.set(xlabel='Time (Myr)', ylabel='Difference (stream-halo)')\n",
    "    \n",
    "    \n",
    "    \n",
    "    \n",
    "    \n",
    "def read_stream_file(filename):\n",
    "    \"\"\"\n",
    "    reads in a saved stream run \n",
    "    returns the subhalo, progenitor and stream\n",
    "    \"\"\"\n",
    "    f = h5py.File(path_data+'/'+filename, mode='r')\n",
    "    \n",
    "    body=f['nbody']\n",
    "    stream_cont=f['stream']\n",
    "    \n",
    "    #f.close()\n",
    "    return body, stream_cont\n",
    "\n",
    "\n",
    "def plot_stream_at_particular_step(step, filename):\n",
    "    \n",
    "    bd, st=read_stream_file(filename)\n",
    "\n",
    "    \n",
    "    st_pos=st['pos'][:,step]\n",
    "    bd_pos= bd['pos'][:,step]\n",
    "    \n",
    "    \n",
    "    \n",
    "    #visualize\n",
    "    fig, ax=plt.subplots(ncols=3, figsize=(12, 4))\n",
    "    #plot r vs z\n",
    "    ax[0].scatter(st_pos[0], st_pos[1], s=1)\n",
    "    ax[0].scatter(bd_pos[0], bd_pos[1], s=100, c=['r', 'b'])\n",
    "    \n",
    "\n",
    "    ax[1].scatter(st_pos[0], st_pos[2], s=1)\n",
    "    ax[1].scatter(bd_pos[0], bd_pos[2], s=100, c=['r', 'b'])\n",
    "    \n",
    "    ax[-1].scatter(st_pos[1], st_pos[2], s=1)\n",
    "    ax[-1].scatter(bd_pos[1], bd_pos[2], s=100, c=['r', 'b'])\n",
    "    \n",
    "    #for a in ax:\n",
    "    ax[0].set(xlabel='x (kpc)', ylabel='y (kpc)')\n",
    "    ax[1].set(xlabel='x (kpc)', ylabel='z (kpc)')\n",
    "    ax[-1].set(xlabel='y (kpc)', ylabel='z (kpc)')\n",
    "    \n",
    "    plt.tight_layout()\n",
    "        \n",
    "    # IMPORTANT ANIMATION CODE HERE\n",
    "    # Used to keep the limits constant\n",
    "\n",
    "    # Used to return the plot as an image rray\n",
    "    fig.canvas.draw()       # draw the canvas, cache the renderer\n",
    "    image = np.frombuffer(fig.canvas.tostring_rgb(), dtype='uint8')\n",
    "    image  = image.reshape(fig.canvas.get_width_height()[::-1] + (3,))\n",
    "\n",
    "\n",
    "    return image\n",
    "\n",
    "\n",
    "def visualize_impact(filename, T, tcol=1200*u.Myr,  dt= 30*u.Myr, frames=20):\n",
    "    \n",
    "    #chose steps\n",
    "    steps= np.arange(len(T['t']))[np.logical_and(T['t']>tcol-dt, T['t']>tcol+dt)]\n",
    "    skip=1\n",
    "    chosen_steps=steps\n",
    "    #choose steps until we reach 20 frames total\n",
    "    while len(chosen_steps) > frames:\n",
    "        chosen_steps=steps[::skip]\n",
    "        skip +=1\n",
    "\n",
    "    kwargs_write = {'fps':1, 'quantizer':'nq'}\n",
    "    _= imageio.mimsave(path_plot+'/'+ filename+'vzonly.gif',\\\n",
    "                       [ plot_stream_at_particular_step(step, filename+'.h5') for step in \\\n",
    "                                         chosen_steps], \\\n",
    "                       fps=5)\n",
    "    return \n",
    "    \n"
   ]
  },
  {
   "cell_type": "code",
   "execution_count": 15,
   "id": "bea35296",
   "metadata": {},
   "outputs": [
    {
     "ename": "NameError",
     "evalue": "name 'filename' is not defined",
     "output_type": "error",
     "traceback": [
      "\u001b[0;31m---------------------------------------------------------------------------\u001b[0m",
      "\u001b[0;31mNameError\u001b[0m                                 Traceback (most recent call last)",
      "\u001b[0;32m/var/folders/p5/jqfspzln0z965dsfd1pj_5900000gp/T/ipykernel_41954/1418765278.py\u001b[0m in \u001b[0;36m<module>\u001b[0;34m\u001b[0m\n\u001b[1;32m      5\u001b[0m \u001b[0mgen_gd1\u001b[0m \u001b[0;34m=\u001b[0m \u001b[0mms\u001b[0m\u001b[0;34m.\u001b[0m\u001b[0mMockStreamGenerator\u001b[0m\u001b[0;34m(\u001b[0m\u001b[0mdf\u001b[0m\u001b[0;34m,\u001b[0m \u001b[0mMWPOT\u001b[0m\u001b[0;34m,\u001b[0m \u001b[0mprogenitor_potential\u001b[0m\u001b[0;34m=\u001b[0m\u001b[0mgd1_pot\u001b[0m\u001b[0;34m)\u001b[0m\u001b[0;34m\u001b[0m\u001b[0;34m\u001b[0m\u001b[0m\n\u001b[1;32m      6\u001b[0m stream, nbody = gen_gd1.run(st_x, gd1_mass, **time_linear, n_steps=1500, output_every=1, \\\n\u001b[0;32m----> 7\u001b[0;31m                             output_filename=path_data+filename+'.h5',    check_filesize=True, overwrite=True, progress=True)\n\u001b[0m",
      "\u001b[0;31mNameError\u001b[0m: name 'filename' is not defined"
     ]
    }
   ],
   "source": [
    "#linear time\n",
    "nsteps=1500\n",
    "time_linear= {'t': np.arange(0, 1500)*u.Myr}\n",
    "#FIRST RUN A STREAM FROM POINT 0 TO T\n",
    "gen_gd1 = ms.MockStreamGenerator(df, MWPOT, progenitor_potential=gd1_pot)\n",
    "stream, nbody = gen_gd1.run(st_x, gd1_mass, **time_linear, n_steps=1500, output_every=1, \\\n",
    "                            output_filename=path_data+filename+'.h5',    check_filesize=True, overwrite=True, progress=True)\n"
   ]
  },
  {
   "cell_type": "code",
   "execution_count": null,
   "id": "e228e572",
   "metadata": {},
   "outputs": [],
   "source": [
    "#PICK A POINT IN THE STREAM ALONG AT A CERTAIN POINT\n",
    "tcol=500*u.Myr\n",
    "tcol_duration=50*u.Myr \n",
    "\n",
    "#get full stream and body\n",
    "bdy, st= read_stream_file(filename+'.h5')"
   ]
  },
  {
   "cell_type": "code",
   "execution_count": null,
   "id": "30e004e3",
   "metadata": {},
   "outputs": [],
   "source": [
    "bdy['pos']"
   ]
  },
  {
   "cell_type": "code",
   "execution_count": null,
   "id": "02a18e46",
   "metadata": {},
   "outputs": [],
   "source": [
    "#pick the stream at collision\n",
    "step= np.arange(len(time_linear['t']))[time_linear['t']== tcol][0]\n",
    "\n",
    "stream_stars_pos_at_impact=  st['pos'][:,step]\n",
    "stream_stars_vel_at_impact=  st['vel'][:,step]\n",
    "stream_prog_at_impact=  bdy['pos'][:,step]\n",
    "\n",
    "#pick the subhalo hit position at 0.3 kpc from the center\n",
    "distance_stream_center=(np.nansum((stream_stars_at_impact-stream_prog_at_impact)**2, axis=0)**0.5)\n",
    "impact_bool= np.logical_and(distance_stream_center <=0.3, distance_stream_center >=0.29)"
   ]
  },
  {
   "cell_type": "code",
   "execution_count": null,
   "id": "2fc9aa4f",
   "metadata": {},
   "outputs": [],
   "source": [
    "impact_pos=np.nanmedian([stream_stars_pos_at_impact[0][impact_bool],\n",
    "            stream_stars_pos_at_impact[1][impact_bool],\n",
    "            stream_stars_pos_at_impact[2][impact_bool]], axis=1)\n",
    "\n",
    "impact_vel= np.nanmedian([stream_stars_vel_at_impact[0][impact_bool],\n",
    "                          stream_stars_vel_at_impact[1][impact_bool],\n",
    "                          stream_stars_vel_at_impact[-1][impact_bool]], axis=1)\n",
    "\n",
    "#impact\n",
    "impact_w0= gd.PhaseSpacePosition(pos=impac_pos*u.kpc,\n",
    "                                vel= impact_vel*u.kpc/u.Myr )"
   ]
  },
  {
   "cell_type": "code",
   "execution_count": null,
   "id": "03f3b636",
   "metadata": {},
   "outputs": [],
   "source": []
  },
  {
   "cell_type": "code",
   "execution_count": null,
   "id": "bb12e54f",
   "metadata": {},
   "outputs": [],
   "source": [
    "#idea only run stream ana gap during ~100 Myr \n",
    "#just like you can remove the subhalo, you can add it at a certain time \n",
    "#process\n",
    "# - run orbits given ICS\n",
    "#  run stream alone\n",
    "# pick the current position\n",
    "# - add subhalo at moment of interaction\n",
    "# remove subhalo\n",
    "#keep generating stars"
   ]
  },
  {
   "cell_type": "code",
   "execution_count": null,
   "id": "c1ebc09e",
   "metadata": {},
   "outputs": [],
   "source": [
    " visualize_impact(filename, T, tcol=1500*u.Myr,  dt= 10*u.Myr, frames=20)"
   ]
  },
  {
   "cell_type": "code",
   "execution_count": null,
   "id": "d3c83f79",
   "metadata": {},
   "outputs": [],
   "source": []
  },
  {
   "cell_type": "code",
   "execution_count": null,
   "id": "073bb865",
   "metadata": {
    "scrolled": true
   },
   "outputs": [],
   "source": [
    "fig, ax=plt.subplots(ncols=3, figsize=(14, 6))\n",
    "ax[0].scatter(res[0].x, res[0].y, s=.3)\n",
    "ax[1].scatter(res[0].x, res[0].z, s=.3)\n",
    "ax[-1].scatter(res[0].y, res[0].z, s=.3)\n",
    "\n",
    "ax[0].scatter(res[-1][0].x, res[-1][0].y, s=100, marker='o')\n",
    "ax[1].scatter(res[-1][0].x, res[-1][0].z, s=100, marker='o')\n",
    "ax[-1].scatter(res[-1][0].y, res[-1][0].z, s=100, marker='o')\n",
    "\n",
    "ax[0].set(xlabel='x (kpc)', ylabel='y (kpc)')\n",
    "ax[1].set(xlabel='x (kpc)', ylabel='z (kpc)')\n",
    "ax[-1].set(xlabel='y (kpc)', ylabel='z (kpc)')"
   ]
  },
  {
   "cell_type": "code",
   "execution_count": null,
   "id": "90d7b889",
   "metadata": {},
   "outputs": [],
   "source": [
    "#fig= o.plot()"
   ]
  },
  {
   "cell_type": "code",
   "execution_count": null,
   "id": "c5241f78",
   "metadata": {},
   "outputs": [],
   "source": [
    "#no gaps ?\n",
    "#c"
   ]
  },
  {
   "cell_type": "code",
   "execution_count": null,
   "id": "870d74c6",
   "metadata": {},
   "outputs": [],
   "source": [
    "#save\n",
    "final_stream_coord=SkyCoord(x=res[0].x,\n",
    "                            y=res[0].y,\n",
    "                            z=res[0].z, \n",
    "                            v_x=res[0].v_x,\n",
    "                            v_y=res[0].v_y,\n",
    "                            v_z=res[0].v_z,\n",
    "                           frame=galcen_frame)\n",
    "\n",
    "final_prog_coord=SkyCoord(x=res[-1][0].x,\n",
    "                            y=res[-1][0].y,\n",
    "                            z=res[-1][0].z, \n",
    "                            v_x=res[-1][0].v_x,\n",
    "                            v_y=res[-1][0].v_y,\n",
    "                            v_z=res[-1][0].v_z,\n",
    "                           frame=galcen_frame)\n",
    "\n",
    "final_data={'stream': final_stream_coord, 'prog': final_prog_coord}\n",
    "np.save(path_data+'/{}.npy'.format(filename), final_data)"
   ]
  },
  {
   "cell_type": "code",
   "execution_count": null,
   "id": "91d523a8",
   "metadata": {},
   "outputs": [],
   "source": [
    "final_prog_coord"
   ]
  },
  {
   "cell_type": "code",
   "execution_count": null,
   "id": "25dfa2c7",
   "metadata": {},
   "outputs": [],
   "source": [
    "#visualize orbits\n",
    "o=  MWPOT.integrate_orbit(gd.combine([st_x, halo_x]),**T)\n",
    "fig= o.plot()"
   ]
  },
  {
   "cell_type": "code",
   "execution_count": null,
   "id": "ed4b8eb9",
   "metadata": {},
   "outputs": [],
   "source": [
    "radec=final_stream_coord.transform_to(astro_coord.ICRS)\n",
    "fig, ax=plt.subplots(figsize=(12, 4))\n",
    "ax.scatter(radec.ra, radec.dec, s=0.5)"
   ]
  },
  {
   "cell_type": "code",
   "execution_count": null,
   "id": "d479b7fd",
   "metadata": {},
   "outputs": [],
   "source": [
    "'{:.2e}'.format(1e7)"
   ]
  },
  {
   "cell_type": "code",
   "execution_count": null,
   "id": "8739e38e",
   "metadata": {},
   "outputs": [],
   "source": []
  }
 ],
 "metadata": {
  "kernelspec": {
   "display_name": "Python 3 (ipykernel)",
   "language": "python",
   "name": "python3"
  },
  "language_info": {
   "codemirror_mode": {
    "name": "ipython",
    "version": 3
   },
   "file_extension": ".py",
   "mimetype": "text/x-python",
   "name": "python",
   "nbconvert_exporter": "python",
   "pygments_lexer": "ipython3",
   "version": "3.9.7"
  }
 },
 "nbformat": 4,
 "nbformat_minor": 5
}
