{
 "cells": [
  {
   "cell_type": "code",
   "execution_count": 1,
   "metadata": {},
   "outputs": [],
   "source": [
    "#investigating the shapes and sizes of different subhalos\n",
    "import astropy.units as u\n",
    "import numpy as np\n",
    "import gala.potential as gp\n",
    "import gala.dynamics as gd\n",
    "from gala.dynamics import mockstream as ms\n",
    "from gala.units import galactic\n",
    "from astropy.coordinates import SkyCoord, Distance\n",
    "#import popsims\n",
    "import matplotlib.pyplot as plt\n",
    "#%matplotlib notebook\n",
    "from tqdm import tqdm\n",
    "from astropy.constants import G\n",
    "import HSS\n",
    "from gala.units import galactic\n",
    "import gala.coordinates as gc\n",
    "import  h5py\n",
    "import imageio\n",
    "import seaborn as sns\n",
    "import matplotlib as mpl\n",
    "import matplotlib.animation as animation\n",
    "import astropy.coordinates as astro_coord\n",
    "sns.set_style(\"dark\")\n",
    "mpl.rc('xtick', labelsize=16) \n",
    "mpl.rc('ytick', labelsize=16) \n",
    "font = {'axes.titlesize'      : 'large',   # fontsize of the axes title\n",
    "        'axes.labelsize'      : 'large', # fontsize of the x any y labels\n",
    "        'size'   : 16}\n",
    "#plt.style.use('dark_background')\n",
    "import itertools\n",
    "#paths\n",
    "path_plot = '/users/caganze/research/stellarstreams/figures/stream/'\n",
    "path_data = '/users/caganze/research/stellarstreams/data/stream/'\n"
   ]
  },
  {
   "cell_type": "code",
   "execution_count": 4,
   "metadata": {},
   "outputs": [],
   "source": [
    "\n",
    "#coords standards\n",
    "_ = astro_coord.galactocentric_frame_defaults.set('v4.0')\n",
    "\n",
    "#potential and hamiltonian\n",
    "pot=gp.MilkyWayPotential()\n",
    "H = gp.Hamiltonian(pot)\n",
    "#galactocentric reference frame\n",
    "v_sun = astro_coord.CartesianDifferential([11.1, 220 + 24.0, 7.25]*u.km/u.s)\n",
    "\n",
    "galcen_frame =astro_coord.Galactocentric(galcen_distance=8.*u.kpc,\n",
    "                                    galcen_v_sun=v_sun)"
   ]
  },
  {
   "cell_type": "code",
   "execution_count": 5,
   "metadata": {},
   "outputs": [],
   "source": [
    "#position for a random stream (forget about pal 5)\n",
    "coord=SkyCoord(x=10.*u.kpc, y=0 * u.kpc,z=10*u.kpc,\\\n",
    "         v_x=0*u.km/u.s, v_y=170*u.km/u.s, v_z=0*u.km/u.s, frame=galcen_frame)\n",
    "\n",
    "\n",
    "st_pos=gd.PhaseSpacePosition(coord.transform_to(galcen_frame).cartesian)"
   ]
  },
  {
   "cell_type": "code",
   "execution_count": 28,
   "metadata": {},
   "outputs": [],
   "source": [
    "point_potential=gp.HernquistPotential(10**6*u.Msun,  106*u.pc, units=galactic)\n",
    "point_potential2=gp.HernquistPotential(10**6*u.Msun,  1.06*u.kpc, units=galactic)\n",
    "point_potential3=gp.HernquistPotential(10**6*u.Msun,  1.06*u.pc, units=galactic)\n",
    "\n",
    "\n",
    "\n",
    "\n",
    "\n",
    "\n",
    "    "
   ]
  },
  {
   "cell_type": "code",
   "execution_count": 30,
   "metadata": {},
   "outputs": [
    {
     "data": {
      "text/plain": [
       "Text(0, 0.5, '$\\\\Phi(x,0,1)$ [$\\\\mathrm{\\\\frac{kpc^{2}}{Myr^{2}}}$]')"
      ]
     },
     "execution_count": 30,
     "metadata": {},
     "output_type": "execute_result"
    },
    {
     "data": {
      "image/png": "[encoded data removed]",
      "text/plain": [
       "<Figure size 432x288 with 1 Axes>"
      ]
     },
     "metadata": {},
     "output_type": "display_data"
    }
   ],
   "source": [
    "fig, ax = plt.subplots() \n",
    "point_potential.plot_contours(grid=(np.linspace(-15,15,100), 0., 1.), marker='', ax=ax) \n",
    "point_potential2.plot_contours(grid=(np.linspace(-15,15,100), 0., 1.), marker='', ax=ax) \n",
    "point_potential3.plot_contours(grid=(np.linspace(-15,15,100), 0., 1.), marker='', ax=ax) \n",
    "\n",
    "\n",
    "\n",
    "\n",
    "E_unit = point_potential.units['energy'] / point_potential.units['mass']\n",
    "ax.set_xlabel(\"$x$ [{}]\".format(point_potential.units['length'].to_string(format='latex'))) \n",
    "ax.set_ylabel(\"$\\Phi(x,0,1)$ [{}]\".format(E_unit.to_string(format='latex'))) \n",
    "\n"
   ]
  },
  {
   "cell_type": "code",
   "execution_count": null,
   "metadata": {},
   "outputs": [],
   "source": [
    "s=pd.r"
   ]
  }
 ],
 "metadata": {
  "kernelspec": {
   "display_name": "Python 3",
   "language": "python",
   "name": "python3"
  },
  "language_info": {
   "codemirror_mode": {
    "name": "ipython",
    "version": 3
   },
   "file_extension": ".py",
   "mimetype": "text/x-python",
   "name": "python",
   "nbconvert_exporter": "python",
   "pygments_lexer": "ipython3",
   "version": "3.8.5"
  }
 },
 "nbformat": 4,
 "nbformat_minor": 4
}
