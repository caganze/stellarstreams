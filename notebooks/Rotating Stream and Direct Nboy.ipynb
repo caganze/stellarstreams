{
 "cells": [
  {
   "cell_type": "code",
   "execution_count": 1,
   "id": "30bec7cf",
   "metadata": {},
   "outputs": [],
   "source": [
    "\n",
    "import astropy.units as u\n",
    "import numpy as np\n",
    "import gala.potential as gp\n",
    "import gala.dynamics as gd\n",
    "from gala.dynamics import mockstream as ms\n",
    "from gala.units import galactic\n",
    "from astropy.coordinates import SkyCoord, Distance\n",
    "\n",
    "import matplotlib.pyplot as plt\n",
    "\n",
    "from tqdm import tqdm\n",
    "from astropy.constants import G\n",
    "from gala.units import galactic\n",
    "import gala.coordinates as gc\n",
    "import  h5py\n",
    "import imageio\n",
    "import seaborn as sns\n",
    "import matplotlib as mpl\n",
    "import matplotlib.animation as animation\n",
    "import astropy.coordinates as astro_coord\n",
    "import glob\n",
    "import pandas as pd\n",
    "sns.set_style(\"dark\")\n",
    "mpl.rc('xtick', labelsize=16) \n",
    "mpl.rc('ytick', labelsize=16) \n",
    "font = {'axes.titlesize'      : 'large',   # fontsize of the axes title\n",
    "        'axes.labelsize'      : 'large', # fontsize of the x any y labels\n",
    "        'size'   : 20}\n",
    "import astropy.units as u\n",
    "from astropy.io import ascii\n",
    "import itertools\n",
    "from scipy import stats\n",
    "#paths\n",
    "\n",
    "#paths\n",
    "path_plot = '/users/caganze/research/stellarstreams/figures/paper/'\n",
    "path_data = '/users/caganze/research/stellarstreams/data/rotating/'\n",
    "isochrone_path='/users/caganze/research/stellarstreams/data/isochrones/'\n",
    "\n",
    "\n",
    "from matplotlib.gridspec import GridSpec\n",
    "%matplotlib inline\n",
    "#%matplotlib notebook"
   ]
  },
  {
   "cell_type": "code",
   "execution_count": 2,
   "id": "8304db0c",
   "metadata": {},
   "outputs": [],
   "source": [
    "#function definitions\n",
    "def evolve_orbits_only(st_coord, pert_coord, pert_pot, time_dict):\n",
    "    #evolve stream and nbody for a short period without releasing any stars\n",
    "    w0 = gd.combine((st_coord, pert_coord,))\n",
    "    particle_pot = [list([pert_pot]) + [gp.NullPotential(units=pert_pot.units)] * st_coord.shape[0]][0]\n",
    "    print (particle_pot)\n",
    "    \n",
    "    nbody = gd.DirectNBody(w0, particle_pot, external_potential=MWPOT, save_all=False)\n",
    "\n",
    "    return  nbody.integrate_orbit(**time_dict)\n",
    "\n",
    "\n",
    "\n",
    "### These are the important definitions. The lines above are just to show how the stuff used in here are originally defined\n",
    "def get_cyl_rotation(site_at_impact_w0): #borrowed from Adrian Price-Whelan's streampunch github repo\n",
    "    L = site_at_impact_w0.angular_momentum()\n",
    "    v = site_at_impact_w0.v_xyz\n",
    "\n",
    "    new_z = v / np.linalg.norm(v, axis=0)\n",
    "    new_x = L / np.linalg.norm(L, axis=0)\n",
    "    new_y = -np.cross(new_x, new_z)\n",
    "    R = np.stack((new_x, new_y, new_z))\n",
    "    return R\n",
    "\n",
    "\n",
    "def get_perturber_w0_at_impact(site_at_impact_w0, psi, v_rho, v_z, vpsi):\n",
    "\n",
    "    # Get the rotation matrix to rotate from Galactocentric to cylindrical\n",
    "    # impact coordinates at the impact site along the stream\n",
    "    R = get_cyl_rotation(site_at_impact_w0)\n",
    "\n",
    "    psi, v_rho, v_z, vpsi =  psi * u.rad, v_rho*u.km/u.s,  v_z * u.km/u.s, vpsi * u.rad/u.s\n",
    "\n",
    "    # Define the position of the perturber at the time of impact in the\n",
    "    # cylindrical impact coordinates:\n",
    "    perturber_pos = astro_coord.CylindricalRepresentation(rho=0*u.kpc, \n",
    "                                                    phi=psi,\n",
    "                                                    z=0*u.kpc) \n",
    "\n",
    "    # Define the velocity in the cylindrical impact coordinates:\n",
    "    #maybe we want this to have the same vz as the stream?\n",
    "    perturber_vel = astro_coord.CylindricalDifferential(\n",
    "        d_rho=v_rho,\n",
    "        d_phi=vpsi,\n",
    "        d_z=v_z)\n",
    "\n",
    "    # Transform from the cylindrical impact coordinates to Galactocentric\n",
    "    perturber_rep = perturber_pos.with_differentials(perturber_vel)\n",
    "    perturber_rep = perturber_rep.represent_as(\n",
    "        astro_coord.CartesianRepresentation, astro_coord.CartesianDifferential)\n",
    "    perturber_rep = perturber_rep.transform(R.T)\n",
    "\n",
    "    pos = perturber_rep.without_differentials() + site_at_impact_w0.pos\n",
    "    vel = perturber_rep.differentials['s'] + site_at_impact_w0.vel\n",
    "\n",
    "    # This should be in Galactocentric Cartesian coordinates now!\n",
    "    return gd.PhaseSpacePosition(pos, vel)"
   ]
  },
  {
   "cell_type": "code",
   "execution_count": 3,
   "id": "71bac4e1",
   "metadata": {},
   "outputs": [],
   "source": [
    "#some global parameters\n",
    "#galactocentric reference frame\n",
    "v_sun = astro_coord.CartesianDifferential([11.1, 220 + 24.0, 7.25]*u.km/u.s)\n",
    "galcen_frame =astro_coord.Galactocentric(galcen_distance=8.*u.kpc,\n",
    "                                    galcen_v_sun=v_sun)\n",
    "\n",
    "#present day position of stream        \n",
    "gd1_w0=gd.PhaseSpacePosition(SkyCoord(x=1*u.kpc, y=1* u.kpc,z=10*u.kpc, \\\n",
    "                                                v_x=150*u.km/u.s, v_y=150*u.km/u.s, v_z=0*u.km/u.s,\\\n",
    "                                                 frame=galcen_frame).cartesian)\n",
    "\n",
    "#potential of the galaxy\n",
    "MWPOT = gp.MilkyWayPotential()\n",
    "H = gp.Hamiltonian(MWPOT)\n",
    "\n",
    "\n",
    "#stream potential\n",
    "gd1_mass = 3e4 * u.Msun\n",
    "gd1_pot = gp.PlummerPotential(m=gd1_mass, b=5*u.pc, units=galactic)\n",
    "df = ms.FardalStreamDF()"
   ]
  },
  {
   "cell_type": "code",
   "execution_count": 4,
   "id": "9ba591d3",
   "metadata": {},
   "outputs": [
    {
     "data": {
      "text/plain": [
       "[Text(0.5, 0, 'y (kpc)'), Text(0, 0.5, 'z (kpc)')]"
      ]
     },
     "execution_count": 4,
     "metadata": {},
     "output_type": "execute_result"
    },
    {
     "data": {
      "image/png": "[encoded data removed]",
      "text/plain": [
       "<Figure size 864x288 with 3 Axes>"
      ]
     },
     "metadata": {
      "needs_background": "light"
     },
     "output_type": "display_data"
    }
   ],
   "source": [
    "#now run a stream forward and choose an impact site\n",
    "\n",
    "#integrate back to create a stream\n",
    "gen_gd1 = ms.MockStreamGenerator(df, MWPOT)#, progenitor_potential=gd1_pot)\n",
    "stream, nbody = gen_gd1.run(gd1_w0, gd1_mass,\n",
    "                                dt=-1 * u.Myr, n_steps=700)\n",
    "\n",
    "\n",
    "w0_now = gd.PhaseSpacePosition(stream.data, stream.vel)\n",
    "\n",
    "t_int=700\n",
    "\n",
    "orbit = MWPOT.integrate_orbit(w0_now, dt=-1*u.Myr, n_steps=int(t_int))\n",
    "old_stream = orbit[-1]\n",
    "\n",
    "#choose impact position somewhere in the tail\n",
    "impact_bool1= (((old_stream.pos.x.value-np.mean(old_stream.pos.x.value))**2+\n",
    "                                    (old_stream.pos.y.value-np.mean(old_stream.pos.y.value))**2+\n",
    "                                    (old_stream.pos.z.value-np.mean(old_stream.pos.z.value))**2)**0.5) >=1.7\n",
    "\n",
    "impact_bool0= (((old_stream.pos.x.value-np.mean(old_stream.pos.x.value))**2+\n",
    "                                    (old_stream.pos.y.value-np.mean(old_stream.pos.y.value))**2+\n",
    "                                    (old_stream.pos.z.value-np.mean(old_stream.pos.z.value))**2)**0.5) <=1.8\n",
    "impact_site= np.logical_and(impact_bool1, impact_bool0)\n",
    "\n",
    "\n",
    "\n",
    "#site_at_impact_w0 = gd.PhaseSpacePosition(pos=np.mean(old_stream.pos), \\\n",
    "#                                          vel=np.mean(old_stream.vel\n",
    "site_at_impact_w0=gd.PhaseSpacePosition(pos=old_stream.pos[impact_site][0], \\\n",
    "                                          vel=old_stream.vel[impact_site][0])\n",
    "#visualize\n",
    "fig, ax=plt.subplots(ncols=3, figsize=(12, 4))\n",
    "ax[0].scatter(old_stream.pos.x, old_stream.pos.y, s=1)\n",
    "ax[1].scatter(old_stream.pos.x, old_stream.pos.z, s=1)\n",
    "ax[-1].scatter(old_stream.pos.y, old_stream.pos.z, s=1)\n",
    "\n",
    "ax[0].scatter(site_at_impact_w0.pos.x, site_at_impact_w0.pos.y, s=200, marker='x')\n",
    "ax[1].scatter(site_at_impact_w0.pos.x, site_at_impact_w0.pos.z, s=200, marker='x')\n",
    "ax[-1].scatter(site_at_impact_w0.pos.y, site_at_impact_w0.pos.z, s=200, marker='x')\n",
    "\n",
    "ax[0].set(xlabel='x (kpc)', ylabel='y (kpc)')\n",
    "ax[1].set(xlabel='x (kpc)', ylabel='z (kpc)')\n",
    "ax[-1].set(xlabel='y (kpc)', ylabel='z (kpc)')\n",
    "#vxstream, vystream, vzstream not defined in this file but its just the velocity of the stream\n",
    "#jk"
   ]
  },
  {
   "cell_type": "code",
   "execution_count": 5,
   "id": "5430d6b9",
   "metadata": {},
   "outputs": [
    {
     "name": "stdout",
     "output_type": "stream",
     "text": [
      "[ -1.57079633 -50.         -50.           1.57079633]\n",
      "[-2.91945506 -2.96734334 -8.7387257 ] kpc [-117.17607381 -116.83428196   49.49876052] km / s\n"
     ]
    }
   ],
   "source": [
    "#choose the subhalo properties\n",
    "frac=10.0\n",
    "vpsi= ((1*u.km/u.s)/(0.01*u.kpc)).to(u.rad/u.s, u.dimensionless_angles()).value\n",
    "impact_vector=frac*(np.array([-(1/frac)*(np.pi/2), -5, -5, (1/frac)*np.pi/2]))\n",
    "perturb= get_perturber_w0_at_impact(site_at_impact_w0, *impact_vector)\n",
    "print (impact_vector)\n",
    "print (perturb.xyz, perturb.v_xyz)"
   ]
  },
  {
   "cell_type": "code",
   "execution_count": null,
   "id": "3cbd8177",
   "metadata": {},
   "outputs": [],
   "source": [
    "#run both the pertuber and the subhalo as potential object for a few Myr\n",
    "forward_time= {'dt':100*u.Myr, 'nsteps': 500, 't1': -100*u.Myr}\n",
    "\n",
    "\n",
    "mhalo=10**7\n",
    "rhalo=1005*((mhalo/10**8)**0.5)\n",
    "#define the potential of the subhalo pummer sphere for now\n",
    "subhalo_pot=gp.HernquistPotential(mhalo*u.Msun,  rhalo*u.pc, units=galactic)\n",
    "\n",
    "\n",
    "#some reformatting \n",
    "#mean stream position\n",
    "st_x=gd.PhaseSpacePosition(pos= old_stream.xyz,\n",
    "                            vel=[old_stream.v_x.value, \\\n",
    "                                 old_stream.v_y.value,\\\n",
    "                                 old_stream.v_z.value]*u.kpc/u.Myr)\n",
    "\n",
    "halo_x= gd.PhaseSpacePosition(pos= perturb.pos,\n",
    "                                vel=perturb.vel)\n",
    "\n",
    "halo_and_stream= evolve_orbits_only(st_x, halo_x, subhalo_pot, forward_time)"
   ]
  },
  {
   "cell_type": "code",
   "execution_count": null,
   "id": "80087faa",
   "metadata": {},
   "outputs": [],
   "source": [
    "final_stream=halo_and_stream[0]"
   ]
  },
  {
   "cell_type": "code",
   "execution_count": null,
   "id": "f4b7989b",
   "metadata": {},
   "outputs": [],
   "source": [
    "fig, ax=plt.subplots(ncols=3, figsize=(12, 4))\n",
    "ax[0].scatter(final_stream.pos.x, final_stream.pos.y, s=1)\n",
    "ax[1].scatter(final_stream.pos.x, final_stream.pos.z, s=1)\n",
    "ax[-1].scatter(final_stream.pos.y,final_stream.pos.z, s=1)"
   ]
  },
  {
   "cell_type": "code",
   "execution_count": null,
   "id": "c4500a91",
   "metadata": {},
   "outputs": [],
   "source": [
    "halo_and_stream.xyz.shape"
   ]
  },
  {
   "cell_type": "code",
   "execution_count": null,
   "id": "4264211b",
   "metadata": {},
   "outputs": [],
   "source": []
  }
 ],
 "metadata": {
  "kernelspec": {
   "display_name": "Python 3 (ipykernel)",
   "language": "python",
   "name": "python3"
  },
  "language_info": {
   "codemirror_mode": {
    "name": "ipython",
    "version": 3
   },
   "file_extension": ".py",
   "mimetype": "text/x-python",
   "name": "python",
   "nbconvert_exporter": "python",
   "pygments_lexer": "ipython3",
   "version": "3.9.7"
  }
 },
 "nbformat": 4,
 "nbformat_minor": 5
}
