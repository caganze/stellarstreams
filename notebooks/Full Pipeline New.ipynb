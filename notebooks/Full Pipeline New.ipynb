{
 "cells": [
  {
   "cell_type": "code",
   "execution_count": 1,
   "id": "f754a57c",
   "metadata": {},
   "outputs": [],
   "source": [
    "import astropy.units as u\n",
    "import numpy as np\n",
    "import gala.potential as gp\n",
    "import gala.dynamics as gd\n",
    "from astropy.coordinates import SkyCoord, Distance\n",
    "#import popsims\n",
    "import matplotlib.pyplot as plt\n",
    "from popsims.plot_style import  plot_style\n",
    "from astropy.coordinates import SkyCoord\n",
    "import astropy.coordinates as astro_coord\n",
    "from popsims import sample_from_powerlaw\n",
    "import astropy.units as u\n",
    "from tqdm import tqdm\n",
    "import popsims\n",
    "import pandas as pd\n",
    "from easyshapey import Box\n",
    "from scipy.interpolate import interp1d, griddata\n",
    "\n",
    "plot_style()\n",
    "\n",
    "path_isochrone='../data/isochrones/'\n",
    "path_data='../data/images/'\n",
    "path_streamdata='../data/stream/'\n",
    "path_pipeline='../data/pipeline/'\n",
    "path_pandas= '../data/pandas/'"
   ]
  },
  {
   "cell_type": "code",
   "execution_count": 2,
   "id": "65d6f9c0",
   "metadata": {},
   "outputs": [],
   "source": [
    "rgc='10_20'\n",
    "mag_limit=28.54\n",
    "mhalo=5e6\n",
    "vhalo=-50\n",
    "d_galaxy=770*u.kpc\n",
    "\n",
    "kpc_conversion = np.pi * d_galaxy / 180.\n",
    "roman_fov= 0.52*u.degree*(kpc_conversion /u.degree)\n",
    "\n",
    "gap_centers={'10_20': (2.5, 6.)}\n",
    "rotation_angles={'10_20': -15.*u.degree.to(u.radian)}\n",
    "\n",
    "mag_keys=['gmag', 'imag', 'F062mag', 'F087mag']"
   ]
  },
  {
   "cell_type": "code",
   "execution_count": 3,
   "id": "175e4649",
   "metadata": {},
   "outputs": [],
   "source": [
    "fname=path_isochrone+'simulated_df_at_M31_normalized_extended_rgc{}.csv'.format(rgc)\n",
    "MASTER_DF=pd.read_csv(fname)\n",
    "#metallicity cut"
   ]
  },
  {
   "cell_type": "code",
   "execution_count": 4,
   "id": "76e2daf8",
   "metadata": {},
   "outputs": [],
   "source": [
    "MASTER_DF=MASTER_DF.query('MH < -1').reset_index(drop=True)"
   ]
  },
  {
   "cell_type": "code",
   "execution_count": 5,
   "id": "77789e4a",
   "metadata": {},
   "outputs": [],
   "source": [
    "#read stream\n",
    "def read_stream_file(N_pal5, gap_center, box, rgc, mhalo, vhalo, rotate_by=-np.pi/8):\n",
    "    \n",
    "    filename='pal5_rgc{}_mhalo{:.2e}_vhalo{:.0f}'.format(rgc, mhalo, vhalo)\n",
    "    st=(np.load(path_streamdata+'/{}.npy'.format(filename), allow_pickle=True).flatten()[0])['stream']\n",
    "    \n",
    "    x=st.y.value\n",
    "    y=st.x.value\n",
    "\n",
    "    \n",
    "    center=np.nanmedian(np.array(rgc.split('_')).astype(float))\n",
    "    \n",
    "    xshift= np.nanmedian(x)-gap_center[0]\n",
    "    yshift=np.nanmedian(y)-gap_center[1]\n",
    "    \n",
    "    x0=x-xshift\n",
    "    y0=y-yshift\n",
    "    \n",
    "    x0, y0= rotate(x0, y0, rotate_by, c=(np.nanmedian(x0), np.nanmedian(y0)))\n",
    "    \n",
    "    xshift= np.nanmedian(x0)-center\n",
    "    yshift=np.nanmedian(y0)-center\n",
    "    \n",
    "    x0=x0-xshift\n",
    "    y0=y0-yshift\n",
    "    \n",
    "    choose=np.random.choice(np.arange(len(x0)), N_pal5)\n",
    "    \n",
    "    return box.select(np.array([x0[choose], y0[choose]]))\n",
    "    \n",
    "def read_cmd_file(rgc, d_galaxy, mag_limit):\n",
    "    df=MASTER_DF\n",
    "    d_m31= 770*u.kpc\n",
    "    dmod_m31=5*np.log10(d_m31.to(u.pc).value/10.0)\n",
    "    \n",
    "    dmod_galaxy=5*np.log10(d_galaxy.to(u.pc).value/10.0)\n",
    "    dmod_diff= dmod_galaxy-dmod_m31\n",
    "    \n",
    "    #put to the desired distance modulus \n",
    "    mw_df= df.query(\"galaxy == 'MW'\").reset_index(drop=True)\n",
    "    m31_df= df.query(\"galaxy =='M31'\").reset_index(drop=True)\n",
    "    \n",
    "    for k in ['appF062mag', 'appF087mag', 'appgmag', 'appimag']:\n",
    "         m31_df[k]=  m31_df[k].values+dmod_diff\n",
    "            \n",
    "    #appply magnitude cut\n",
    "    df_final=pd.concat([m31_df, mw_df]).reset_index(drop=True)\n",
    "    df_final=(df_final[df_final.appF087mag < mag_limit]).reset_index(drop=True)\n",
    "    \n",
    "    \n",
    "    #assign RA, DEC, xki based on the data\n",
    "    from astropy.io.votable import parse_single_table\n",
    "    data=parse_single_table(path_pandas+'M31_{}kpc_new.vot'.format(rgc)).to_table().to_pandas()\n",
    "    \n",
    "    \n",
    "    for k in ['RA', 'Dec','xki', 'eta']:\n",
    "        df_final[k]=np.random.choice(data[k].values, len(df_final), replace=True)\n",
    "              \n",
    "    s=SkyCoord(ra=df_final.RA, dec=df_final.Dec,frame = 'icrs', unit = (u.hourangle, u.deg))\n",
    "    \n",
    "    center=np.nanmedian(np.array(rgc.split('_')).astype(float))\n",
    "              \n",
    "    shift_x=np.nanmedian(kpc_conversion.value*(s.ra.to(u.degree).value))-center\n",
    "    shift_y=np.nanmedian(kpc_conversion.value*(s.dec.to(u.degree).value))-center\n",
    "    \n",
    "    df_final['x_coord']=kpc_conversion.value*(s.ra.to(u.degree).value)-shift_x\n",
    "    df_final['y_coord']=kpc_conversion.value*(s.dec.to(u.degree).value)-shift_y\n",
    "    \n",
    "    return df_final\n",
    "\n",
    "\n",
    "def count_pal5_stars(mag_limit, dmod):\n",
    "    \n",
    "    dmod_pal5=16.85\n",
    "    \n",
    "    def read_pandas_isochrones():\n",
    "        from astropy.io import ascii\n",
    "        return ascii.read(path_isochrone+'/cfht_pre2014_isochrones_pal5.txt').to_pandas()\n",
    "\n",
    "    def read_roman_isochrones():\n",
    "        from astropy.io import ascii\n",
    "        return ascii.read(path_isochrone+'/roman_isochrones_vega_pal5.txt').to_pandas()\n",
    "    \n",
    "    nsample=1e6\n",
    "    masses= sample_from_powerlaw(-5, xmin=0.09, xmax=120, nsample=nsample)\n",
    "    cfht=read_pandas_isochrones()\n",
    "    roman= read_roman_isochrones()\n",
    "    comb= pd.concat([cfht, roman]).reset_index()\n",
    "    \n",
    "    \n",
    "    isos={}\n",
    "    for k in mag_keys:\n",
    "        x= np.log10(comb.Mini.values)\n",
    "        y=comb[k].values\n",
    "        nans=np.logical_or(np.isnan(x), np.isnan(y))\n",
    "        isos['mass']= masses\n",
    "        f=griddata(x[~nans], y[~nans], np.log10(masses) , fill_value=np.nan, method='linear', rescale=True)\n",
    "        isos.update({k: f+dmod_pal5})\n",
    "    \n",
    "    df=pd.DataFrame(isos)\n",
    "    \n",
    "    num_20_23= len(df.gmag.values[np.logical_and(df.gmag.values>=20, df.gmag.values<=23)])\n",
    "    norm= (3000/num_20_23)\n",
    "    \n",
    "    #compute the difference between distance moduli and offset stars\n",
    "    dist_mod_And = dmod- dmod_pal5\n",
    "    \n",
    "    return len(df.F087mag.values[df.F087mag.values<(mag_limit-dist_mod_And)])*norm"
   ]
  },
  {
   "cell_type": "code",
   "execution_count": 6,
   "id": "395c07b4",
   "metadata": {},
   "outputs": [],
   "source": [
    "def make_box(center, xextent, yextent):\n",
    "    b=Box()\n",
    "    x_min, x_max =center[0]- xextent/2, center[0]+ xextent/2\n",
    "    y_min, y_max =center[-1]- yextent/2, center[-1]+ yextent/2\n",
    "    v1= (x_min, y_min)\n",
    "    v2=(x_min, y_max)\n",
    "    v4= (x_max, y_min)\n",
    "    v3=(x_max,y_max)\n",
    "\n",
    "    b.vertices=[v1, v2, v3, v4, v1]\n",
    "    return b\n",
    "\n",
    "def rotate(x, y, ang, c=(0,0)):\n",
    "    \"\"\"\n",
    "    Angle must be in radians\n",
    "    \"\"\"\n",
    "    \n",
    "    #rotation matrix\n",
    "    r=[[np.cos(ang), -np.sin(ang)],\n",
    "       [np.sin(ang), np.cos(ang)]]\n",
    "    \n",
    "    i=np.identity(2)\n",
    "    \n",
    "    mat=np.matrix([[r[0][0], r[0][1], np.dot(i-r, c)[0]],\n",
    "                   [r[1][0], r[1][1], np.dot(i-r, c)[1]],\n",
    "                   [0., 0., 1.]])\n",
    "\n",
    "    z=np.ones_like(x)\n",
    "    \n",
    "    rotated=np.array(np.dot(mat, np.array([x, y, z])))\n",
    "    \n",
    "    return rotated[0], rotated[1] "
   ]
  },
  {
   "cell_type": "code",
   "execution_count": 7,
   "id": "910f79d1",
   "metadata": {},
   "outputs": [],
   "source": [
    "center=np.nanmedian(np.array(rgc.split('_')).astype(float))\n",
    "b=make_box( (center, center), roman_fov.value, roman_fov.value)"
   ]
  },
  {
   "cell_type": "code",
   "execution_count": 8,
   "id": "0aaa64e7",
   "metadata": {},
   "outputs": [
    {
     "ename": "TypeError",
     "evalue": "'float' object cannot be interpreted as an integer",
     "output_type": "error",
     "traceback": [
      "\u001b[0;31m---------------------------------------------------------------------------\u001b[0m",
      "\u001b[0;31mTypeError\u001b[0m                                 Traceback (most recent call last)",
      "Input \u001b[0;32mIn [8]\u001b[0m, in \u001b[0;36m<cell line: 3>\u001b[0;34m()\u001b[0m\n\u001b[1;32m      1\u001b[0m dmod_galaxy\u001b[38;5;241m=\u001b[39m\u001b[38;5;241m5\u001b[39m\u001b[38;5;241m*\u001b[39mnp\u001b[38;5;241m.\u001b[39mlog10(d_galaxy\u001b[38;5;241m.\u001b[39mto(u\u001b[38;5;241m.\u001b[39mpc)\u001b[38;5;241m.\u001b[39mvalue\u001b[38;5;241m/\u001b[39m\u001b[38;5;241m10.0\u001b[39m)\n\u001b[1;32m      2\u001b[0m N_pal5\u001b[38;5;241m=\u001b[39mcount_pal5_stars(mag_limit, dmod_galaxy)\n\u001b[0;32m----> 3\u001b[0m vls\u001b[38;5;241m=\u001b[39m\u001b[43mread_stream_file\u001b[49m\u001b[43m(\u001b[49m\u001b[43mN_pal5\u001b[49m\u001b[43m,\u001b[49m\u001b[43m \u001b[49m\u001b[43mgap_centers\u001b[49m\u001b[43m[\u001b[49m\u001b[43mrgc\u001b[49m\u001b[43m]\u001b[49m\u001b[43m,\u001b[49m\u001b[43m \u001b[49m\u001b[43mb\u001b[49m\u001b[43m,\u001b[49m\u001b[43m \u001b[49m\u001b[43mrgc\u001b[49m\u001b[43m,\u001b[49m\u001b[43m \u001b[49m\u001b[43mmhalo\u001b[49m\u001b[43m,\u001b[49m\u001b[43m \u001b[49m\u001b[43mvhalo\u001b[49m\u001b[43m,\u001b[49m\u001b[43m \u001b[49m\u001b[43mrotate_by\u001b[49m\u001b[38;5;241;43m=\u001b[39;49m\u001b[43mrotation_angles\u001b[49m\u001b[43m[\u001b[49m\u001b[43mrgc\u001b[49m\u001b[43m]\u001b[49m\u001b[43m)\u001b[49m\n",
      "Input \u001b[0;32mIn [5]\u001b[0m, in \u001b[0;36mread_stream_file\u001b[0;34m(N_pal5, gap_center, box, rgc, mhalo, vhalo, rotate_by)\u001b[0m\n\u001b[1;32m     24\u001b[0m x0\u001b[38;5;241m=\u001b[39mx0\u001b[38;5;241m-\u001b[39mxshift\n\u001b[1;32m     25\u001b[0m y0\u001b[38;5;241m=\u001b[39my0\u001b[38;5;241m-\u001b[39myshift\n\u001b[0;32m---> 27\u001b[0m choose\u001b[38;5;241m=\u001b[39m\u001b[43mnp\u001b[49m\u001b[38;5;241;43m.\u001b[39;49m\u001b[43mrandom\u001b[49m\u001b[38;5;241;43m.\u001b[39;49m\u001b[43mchoice\u001b[49m\u001b[43m(\u001b[49m\u001b[43mnp\u001b[49m\u001b[38;5;241;43m.\u001b[39;49m\u001b[43marange\u001b[49m\u001b[43m(\u001b[49m\u001b[38;5;28;43mlen\u001b[39;49m\u001b[43m(\u001b[49m\u001b[43mx0\u001b[49m\u001b[43m)\u001b[49m\u001b[43m)\u001b[49m\u001b[43m,\u001b[49m\u001b[43m \u001b[49m\u001b[43mN_pal5\u001b[49m\u001b[43m)\u001b[49m\n\u001b[1;32m     29\u001b[0m \u001b[38;5;28;01mreturn\u001b[39;00m box\u001b[38;5;241m.\u001b[39mselect(np\u001b[38;5;241m.\u001b[39marray([x0[choose], y0[choose]]))\n",
      "File \u001b[0;32mmtrand.pyx:962\u001b[0m, in \u001b[0;36mnumpy.random.mtrand.RandomState.choice\u001b[0;34m()\u001b[0m\n",
      "File \u001b[0;32mmtrand.pyx:748\u001b[0m, in \u001b[0;36mnumpy.random.mtrand.RandomState.randint\u001b[0;34m()\u001b[0m\n",
      "File \u001b[0;32m_bounded_integers.pyx:1256\u001b[0m, in \u001b[0;36mnumpy.random._bounded_integers._rand_int64\u001b[0;34m()\u001b[0m\n",
      "\u001b[0;31mTypeError\u001b[0m: 'float' object cannot be interpreted as an integer"
     ]
    }
   ],
   "source": [
    "dmod_galaxy=5*np.log10(d_galaxy.to(u.pc).value/10.0)\n",
    "N_pal5=count_pal5_stars(mag_limit, dmod_galaxy)\n",
    "vls=read_stream_file(N_pal5, gap_centers[rgc], b, rgc, mhalo, vhalo, rotate_by=rotation_angles[rgc])"
   ]
  },
  {
   "cell_type": "code",
   "execution_count": null,
   "id": "7c5c47a3",
   "metadata": {},
   "outputs": [],
   "source": [
    "bck=read_cmd_file(rgc, d_galaxy=770*u.kpc, mag_limit)"
   ]
  },
  {
   "cell_type": "code",
   "execution_count": null,
   "id": "eac6924c",
   "metadata": {},
   "outputs": [],
   "source": [
    "s=b.select(bck[['x_coord', 'y_coord']])"
   ]
  },
  {
   "cell_type": "code",
   "execution_count": null,
   "id": "3cd30efe",
   "metadata": {},
   "outputs": [],
   "source": [
    "#s"
   ]
  },
  {
   "cell_type": "code",
   "execution_count": null,
   "id": "bab62c27",
   "metadata": {},
   "outputs": [],
   "source": [
    "fig, ax=plt.subplots()\n",
    "\n",
    "ax.scatter(s.x, s.y, s=.01, c='k')\n",
    "ax.scatter(vls[0], vls[1], s=.01, c='k')\n",
    "#ax.set(ylim=[13.5, 14.4], xlim=[12, 18])"
   ]
  },
  {
   "cell_type": "code",
   "execution_count": null,
   "id": "5e64731c",
   "metadata": {},
   "outputs": [],
   "source": [
    "filename='pal5_rgc{}_mhalo{:.2e}_vhalo{:.0f}'.format(rgc, mhalo, vhalo)\n",
    "st=(np.load(path_streamdata+'/{}.npy'.format(filename), allow_pickle=True).flatten()[0])['stream']\n",
    "\n",
    "x=st.y.value\n",
    "y=st.x.value"
   ]
  },
  {
   "cell_type": "code",
   "execution_count": null,
   "id": "7184529b",
   "metadata": {},
   "outputs": [],
   "source": [
    "fig, ax=plt.subplots()\n",
    "ax.scatter(x, y, s=1)\n"
   ]
  },
  {
   "cell_type": "code",
   "execution_count": null,
   "id": "18fa3028",
   "metadata": {},
   "outputs": [],
   "source": [
    "roman_fov"
   ]
  }
 ],
 "metadata": {
  "kernelspec": {
   "display_name": "Python 3 (ipykernel)",
   "language": "python",
   "name": "python3"
  },
  "language_info": {
   "codemirror_mode": {
    "name": "ipython",
    "version": 3
   },
   "file_extension": ".py",
   "mimetype": "text/x-python",
   "name": "python",
   "nbconvert_exporter": "python",
   "pygments_lexer": "ipython3",
   "version": "3.9.12"
  }
 },
 "nbformat": 4,
 "nbformat_minor": 5
}
