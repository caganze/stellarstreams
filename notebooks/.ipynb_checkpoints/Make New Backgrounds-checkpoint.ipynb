{
 "cells": [
  {
   "cell_type": "code",
   "execution_count": 3,
   "id": "318ef581",
   "metadata": {},
   "outputs": [],
   "source": [
    "import astropy.units as u\n",
    "import numpy as np\n",
    "from astropy.coordinates import SkyCoord, Distance\n",
    "#import popsims\n",
    "import matplotlib.pyplot as plt\n",
    "from popsims.plot_style import  plot_style\n",
    "from astropy.coordinates import SkyCoord\n",
    "import astropy.coordinates as astro_coord\n",
    "import astropy.units as u\n",
    "from tqdm import tqdm\n",
    "from popsims.galaxy import Disk, Halo, GalacticComponent\n",
    "from popsims import sample_from_powerlaw\n",
    "import popsims\n",
    "from gala.units import UnitSystem\n",
    "plot_style()\n",
    "%matplotlib inline"
   ]
  },
  {
   "cell_type": "code",
   "execution_count": 24,
   "id": "5eb204ec",
   "metadata": {},
   "outputs": [],
   "source": [
    "path_plot = '/users/caganze/research/stellarstreams/figures/'\n",
    "path_isochrones = '/users/caganze/research/stellarstreams/data/isochrones/'"
   ]
  },
  {
   "cell_type": "code",
   "execution_count": 65,
   "id": "2c35c845",
   "metadata": {},
   "outputs": [],
   "source": [
    "def read_pandas_isochrones():\n",
    "    from astropy.io import ascii\n",
    "    return ascii.read(path_isochrones+'/cfht_pre2014_isochrones.txt').to_pandas()\n",
    "\n",
    "def read_roman_isochrones():\n",
    "    from astropy.io import ascii\n",
    "    return ascii.read(path_isochrones+'/roman_isochrones_vega.txt').to_pandas()\n",
    "\n",
    "def combined_isochrones():\n",
    "    df1= read_pandas_isochrones()\n",
    "    df2=read_roman_isochrones()\n",
    "    comb_isos=pd.concat([df1, df2]).reset_index(drop=True)\n",
    "    return comb_isos"
   ]
  },
  {
   "cell_type": "code",
   "execution_count": 53,
   "id": "d8034c04",
   "metadata": {},
   "outputs": [],
   "source": [
    "def sample_kroupa_imf(nsample, massrange=[0.1, 10]):\n",
    "    m0=sample_from_powerlaw(-0.3, xmin=0.03, xmax= 0.08, nsample=int(nsample))\n",
    "    m1=sample_from_powerlaw(-1.3, xmin=0.08, xmax= 0.5,  nsample=int(nsample))\n",
    "    m2=sample_from_powerlaw(-2.3, xmin=0.5, xmax= 100 , nsample=int(nsample))\n",
    "    m= np.concatenate([m0, m1, m2]).flatten()\n",
    "    mask= np.logical_and(m> massrange[0], m< massrange[1])\n",
    "    masses= np.random.choice(m[mask], int(nsample))\n",
    "    return masses\n",
    "\n",
    "def interpolate_one_iso(age, met):\n",
    "    pass\n",
    "def interpolate_isochrones(mass_range, age_range, met_range, isochrones):\n",
    "    \n",
    "    return "
   ]
  },
  {
   "cell_type": "code",
   "execution_count": 31,
   "id": "ffd3b932",
   "metadata": {},
   "outputs": [],
   "source": [
    "read_roman_isochrones()\n"
   ]
  },
  {
   "cell_type": "code",
   "execution_count": 60,
   "id": "ac39f91b",
   "metadata": {},
   "outputs": [],
   "source": [
    "dfn=df.query('logAge==7.05 & MH==-1.85')"
   ]
  },
  {
   "cell_type": "code",
   "execution_count": 66,
   "id": "9cffe49d",
   "metadata": {},
   "outputs": [
    {
     "data": {
      "text/plain": [
       "[<matplotlib.lines.Line2D at 0x7f9d82d6ffa0>]"
      ]
     },
     "execution_count": 66,
     "metadata": {},
     "output_type": "execute_result"
    },
    {
     "data": {
      "image/png": "[encoded data removed]",
      "text/plain": [
       "<Figure size 432x288 with 1 Axes>"
      ]
     },
     "metadata": {
      "needs_background": "light"
     },
     "output_type": "display_data"
    }
   ],
   "source": [
    "plt.plot(dfn.F087mag, dfn.Mini)"
   ]
  },
  {
   "cell_type": "code",
   "execution_count": null,
   "id": "c9cdd5da",
   "metadata": {},
   "outputs": [],
   "source": []
  }
 ],
 "metadata": {
  "kernelspec": {
   "display_name": "Python 3 (ipykernel)",
   "language": "python",
   "name": "python3"
  },
  "language_info": {
   "codemirror_mode": {
    "name": "ipython",
    "version": 3
   },
   "file_extension": ".py",
   "mimetype": "text/x-python",
   "name": "python",
   "nbconvert_exporter": "python",
   "pygments_lexer": "ipython3",
   "version": "3.9.12"
  }
 },
 "nbformat": 4,
 "nbformat_minor": 5
}
