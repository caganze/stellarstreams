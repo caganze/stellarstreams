{
 "cells": [
  {
   "cell_type": "markdown",
   "id": "be4c101b",
   "metadata": {},
   "source": [
    "1. Have a simulated image\n",
    "\n",
    "\n",
    "2. Use HSS to find a stream\n",
    "\n",
    "\n",
    "3. Rotate to the stream coordinate frame and make a cutout\n",
    "\n",
    "\n",
    "4. Apply Gabby's code to find the stream --> by boostrapping PiHPi\n",
    "\n",
    "\n",
    "5. Compute gap detection threshold "
   ]
  },
  {
   "cell_type": "code",
   "execution_count": 2,
   "id": "a196c5be",
   "metadata": {},
   "outputs": [
    {
     "ename": "ModuleNotFoundError",
     "evalue": "No module named 'HSS'",
     "output_type": "error",
     "traceback": [
      "\u001b[0;31m---------------------------------------------------------------------------\u001b[0m",
      "\u001b[0;31mModuleNotFoundError\u001b[0m                       Traceback (most recent call last)",
      "\u001b[0;32m/var/folders/p5/jqfspzln0z965dsfd1pj_5900000gp/T/ipykernel_17509/1700403776.py\u001b[0m in \u001b[0;36m<module>\u001b[0;34m\u001b[0m\n\u001b[1;32m      8\u001b[0m \u001b[0;32mfrom\u001b[0m \u001b[0mtqdm\u001b[0m \u001b[0;32mimport\u001b[0m \u001b[0mtqdm\u001b[0m\u001b[0;34m\u001b[0m\u001b[0;34m\u001b[0m\u001b[0m\n\u001b[1;32m      9\u001b[0m \u001b[0;34m\u001b[0m\u001b[0m\n\u001b[0;32m---> 10\u001b[0;31m \u001b[0;32mimport\u001b[0m \u001b[0mHSS\u001b[0m\u001b[0;34m\u001b[0m\u001b[0;34m\u001b[0m\u001b[0m\n\u001b[0m\u001b[1;32m     11\u001b[0m \u001b[0;32mimport\u001b[0m \u001b[0mseaborn\u001b[0m \u001b[0;32mas\u001b[0m \u001b[0msns\u001b[0m\u001b[0;34m\u001b[0m\u001b[0;34m\u001b[0m\u001b[0m\n\u001b[1;32m     12\u001b[0m \u001b[0;32mimport\u001b[0m \u001b[0mmatplotlib\u001b[0m \u001b[0;32mas\u001b[0m \u001b[0mmpl\u001b[0m\u001b[0;34m\u001b[0m\u001b[0;34m\u001b[0m\u001b[0m\n",
      "\u001b[0;31mModuleNotFoundError\u001b[0m: No module named 'HSS'"
     ]
    }
   ],
   "source": [
    "#imports \n",
    "\n",
    "import astropy.units as u\n",
    "import numpy as np\n",
    "import popsims #for plot aesthetics\n",
    "import matplotlib.pyplot as plt\n",
    "#%matplotlib notebook\n",
    "from tqdm import tqdm\n",
    "\n",
    "import HSS\n",
    "import seaborn as sns\n",
    "import matplotlib as mpl\n",
    "\n",
    "import astropy.coordinates as astro_coord\n",
    "import glob\n",
    "import pandas as pd\n",
    "sns.set_style(\"dark\")\n",
    "mpl.rc('xtick', labelsize=16) \n",
    "mpl.rc('ytick', labelsize=16) \n",
    "font = {'axes.titlesize'      : 'large',   # fontsize of the axes title\n",
    "        'axes.labelsize'      : 'large', # fontsize of the x any y labels\n",
    "        'size'   : 20}\n",
    "\n",
    "\n",
    "import itertools\n",
    "from scipy import stats\n",
    "from shapey import Box\n",
    "#paths\n",
    "path_plot = '/users/caganze/research/stellarstreams/figures/paper/'\n",
    "#path_data = '/users/caganze/research/stellarstreams/data/rotating/'\n",
    "path_data = '/users/caganze/research/stellarstreams/data/stream/'\n",
    "isochrone_path='/users/caganze/research/stellarstreams/data/isochrones/'\n"
   ]
  },
  {
   "cell_type": "code",
   "execution_count": null,
   "id": "0a18a579",
   "metadata": {},
   "outputs": [],
   "source": []
  }
 ],
 "metadata": {
  "kernelspec": {
   "display_name": "Python 3 (ipykernel)",
   "language": "python",
   "name": "python3"
  },
  "language_info": {
   "codemirror_mode": {
    "name": "ipython",
    "version": 3
   },
   "file_extension": ".py",
   "mimetype": "text/x-python",
   "name": "python",
   "nbconvert_exporter": "python",
   "pygments_lexer": "ipython3",
   "version": "3.9.7"
  }
 },
 "nbformat": 4,
 "nbformat_minor": 5
}
