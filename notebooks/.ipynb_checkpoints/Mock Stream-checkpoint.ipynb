{
 "cells": [
  {
   "cell_type": "code",
   "execution_count": 1,
   "metadata": {},
   "outputs": [],
   "source": [
    "#imports\n",
    "import astropy.units as u\n",
    "import numpy as np\n",
    "import gala.potential as gp\n",
    "import gala.dynamics as gd\n",
    "from gala.dynamics import mockstream as ms\n",
    "from gala.units import galactic\n",
    "from astropy.coordinates import SkyCoord, Distance\n",
    "#import popsims\n",
    "import matplotlib.pyplot as plt\n",
    "%matplotlib inline\n",
    "from tqdm import tqdm\n",
    "import HSS"
   ]
  },
  {
   "cell_type": "code",
   "execution_count": 2,
   "metadata": {},
   "outputs": [],
   "source": [
    "import matplotlib as mpl\n",
    "mpl.rc('xtick', labelsize=12) \n",
    "mpl.rc('ytick', labelsize=12) \n",
    "font = {#'family' : 'Helvetica',\n",
    "        'size'   : 12}\n",
    "mpl.rc('font', **font)"
   ]
  },
  {
   "cell_type": "code",
   "execution_count": 3,
   "metadata": {},
   "outputs": [],
   "source": [
    "path_plot = '/users/caganze/research/stellarstreams/figures/streamssims/'"
   ]
  },
  {
   "cell_type": "code",
   "execution_count": 4,
   "metadata": {},
   "outputs": [],
   "source": [
    "import astropy.coordinates as coord\n",
    "_ = coord.galactocentric_frame_defaults.set('v4.0')"
   ]
  },
  {
   "cell_type": "code",
   "execution_count": 5,
   "metadata": {},
   "outputs": [],
   "source": [
    "#use NFW POTENTIAL BECAUSE THE HALO? \n",
    "pot = gp.NFWPotential.from_circular_velocity(v_c=220*u.km/u.s, r_s=15*u.kpc, units=galactic)\n",
    "#CONSTRUCT A HAMILTONIAN\n",
    "H = gp.Hamiltonian(pot)"
   ]
  },
  {
   "cell_type": "code",
   "execution_count": null,
   "metadata": {},
   "outputs": [],
   "source": []
  },
  {
   "cell_type": "code",
   "execution_count": 6,
   "metadata": {},
   "outputs": [],
   "source": [
    "def detect_gaps(density, x, y, z, npeaks=5, threshold=0.0, verbose=False):\n",
    "    peak_idxs=[]\n",
    "    peaks,  _ = find_peaks(density, threshold=0.)\n",
    "    for n in np.arange(npeaks):\n",
    "        peak_idx= peaks[n]\n",
    "        if verbose:\n",
    "            print ('{} th peak at  xyz position {}'.format(n+1, (x[peak_idx], y[peak_idx], z[peak_idx])))\n",
    "        peak_idxs.append(peak_idx)\n",
    "    return peak_idxs"
   ]
  },
  {
   "cell_type": "code",
   "execution_count": 7,
   "metadata": {},
   "outputs": [],
   "source": [
    "def generate_stream(mass, prog_w0, dt=8 * u.Myr, nsteps=1000):\n",
    "    df = ms.FardalStreamDF()\n",
    "    prog_mass = mass * u.Msun\n",
    "    gen = ms.MockStreamGenerator(df, H)\n",
    "    stream, prog = gen.run(prog_w0, prog_mass ,dt=dt, n_steps=nsteps)\n",
    "    return stream, prog\n",
    "    \n",
    "    "
   ]
  },
  {
   "cell_type": "code",
   "execution_count": 8,
   "metadata": {},
   "outputs": [],
   "source": [
    "def rotate(vs, c, ang):\n",
    "    \"\"\"\n",
    "    rotation of a 2d-vector \n",
    "    input: vs: 2d-vector\n",
    "    c: center of rotation\n",
    "    ang: angle in radian\n",
    "    \n",
    "    \"\"\"\n",
    "    r=[[np.cos(ang), -np.sin(ang)],\n",
    "         [np.sin(ang), np.cos(ang)]]\n",
    "\n",
    "    i=np.identity(2)\n",
    "\n",
    "    mat=np.matrix([[r[0][0], r[0][1], np.dot(i-r, c)[0]],\n",
    "            [r[1][0], r[1][1], np.dot(i-r, c)[1]],\n",
    "            [0., 0., 1.]])\n",
    "\n",
    "    xs=vs[:, 0]\n",
    "    ys=vs[:, 1]\n",
    "\n",
    "    zs=np.array([1. for x in xs])\n",
    "\n",
    "    rotated=np.array(np.dot(mat, np.array([xs, ys, zs])))\n",
    "    \n",
    "    \n",
    "    return  np.array([rotated[0], rotated[1]])"
   ]
  },
  {
   "cell_type": "code",
   "execution_count": 9,
   "metadata": {},
   "outputs": [],
   "source": [
    "def add_fake_gap(stream, cent, radius):\n",
    "    \"\"\"\n",
    "    Create a fake circular grap in a stellar stream\n",
    "    \n",
    "    \n",
    "    Input: center, 3d-radius all in kpc\n",
    "    \n",
    "    returns a mask array\n",
    "    \"\"\"\n",
    "    x, y, z=stream.cartesian.x.to(u.kpc).value, stream.cartesian.y.to(u.kpc).value,\\\n",
    "    stream.cartesian.z.to(u.kpc).value\n",
    "    #compute absolute distance \n",
    "    r= (x-cent[0])**2+(y-cent[1])**2+(z-cent[-1])**2\n",
    "    return  r> radius"
   ]
  },
  {
   "cell_type": "code",
   "execution_count": 10,
   "metadata": {},
   "outputs": [],
   "source": [
    "def generate_random_lb(center, n):\n",
    "    #spatial l and b\n",
    "    lg= np.random.uniform(0, 1, int(n))\n",
    "    bg=np.random.uniform(0, 1,  int(n))\n",
    "    x=2*np.pi*lg*u.radian\n",
    "    y=(np.arccos(2*bg-1)-np.pi/2)*u.radian\n",
    "    \n",
    "    return (x-center[0], y-center[-1])"
   ]
  },
  {
   "cell_type": "code",
   "execution_count": 198,
   "metadata": {},
   "outputs": [],
   "source": [
    "def create_3d_circular_mask(x, y, z, center=None, radius=None):\n",
    "    dist_from_center = np.sqrt((x - center[0])**2 + (y-center[1])**2 + (z-center[-1])**2)\n",
    "    mask = dist_from_center <= radius\n",
    "    return mask\n",
    "\n",
    "def create_2d_circular_mask(x, y, center=None, radius=None):\n",
    "    dist_from_center = np.sqrt((x - center[0])**2 + (y-center[1])**2)\n",
    "    mask = dist_from_center <= radius\n",
    "    return mask"
   ]
  },
  {
   "cell_type": "code",
   "execution_count": 301,
   "metadata": {},
   "outputs": [],
   "source": [
    "def make_fake_stream_plus_gap(mass, steps, age_step, pos, vel, HSS_args, gap_size=0.5,\\\n",
    "                              rotation_angle=np.pi/4, nbackground=1e4, filename='fake_stream', \n",
    "                             circular_radius=0.5, back_ground_radius=15, add_backg=False, plot_hss=True):\n",
    "    \"\"\"\n",
    "    Creates a stream and and input a fake gap \n",
    "    \n",
    "    Returns the stream object and mask array and rotated stream plus backgroudn\n",
    "    \"\"\"\n",
    "    #pick a phase space position\n",
    "    prog_w0 = gd.PhaseSpacePosition(pos=pos ,\n",
    "                                    vel=vel)\n",
    "    #generate stream\n",
    "    stream, pr= generate_stream(mass, prog_w0, dt=age_step, nsteps=steps )\n",
    "    \n",
    "    x_totl = stream.cartesian.x.to(u.kpc).value\n",
    "    y_totl = stream.cartesian.y.to(u.kpc).value\n",
    "    z_totl= stream.cartesian.z.to(u.kpc).value\n",
    "    \n",
    "    #\n",
    "    \n",
    "    stream_tot=SkyCoord(x=x_totl*u.kpc, y=y_totl*u.kpc, z=z_totl*u.kpc, frame='galactocentric')\n",
    "    \n",
    "    #set up the rotation\n",
    "    total_dist=  np.sqrt(np.nansum([stream_tot.cartesian.x.value**2,\\\n",
    "                             stream_tot.cartesian.y.value**2,\\\n",
    "                             stream_tot.cartesian.z.value**2], axis=0))\n",
    "    \n",
    "    vals=np.vstack([ stream_tot.cartesian.x.value/total_dist, stream_tot.cartesian.y.value/total_dist])\n",
    "                         \n",
    "\n",
    "    \n",
    "    rotated=rotate(vals.T, np.nanmedian(vals, axis=1), rotation_angle)\n",
    "    #add gap\n",
    "    center=(np.nanmean(rotated[0]),np.nanmean(rotated[-1]))\n",
    "                         \n",
    "    #if add background\n",
    "    if  add_backg:\n",
    "        #\n",
    "        abs_x=np.nanmax(np.abs(rotated[0]))\n",
    "        abs_y=np.nanmax(np.abs(rotated[-1]))\n",
    "        rdx= np.random.uniform(-abs_x*back_ground_radius, \\\n",
    "                               abs_x*back_ground_radius, int(nbackground)) \n",
    "        rdy= np.random.uniform(-abs_y*back_ground_radius, \\\n",
    "                               abs_y*back_ground_radius, int(nbackground))\n",
    "        rotated= [np.concatenate([rotated[0], rdx]), np.concatenate([rotated[-1], rdy])]\n",
    "        \n",
    "    #pick the gap position as the center of the stream\n",
    "    circular_mask= create_2d_circular_mask(rotated[0], rotated[-1],\\\n",
    "                                  center=center, \\\n",
    "                                     radius= circular_radius)\n",
    "    \n",
    "    \n",
    "    mask=create_2d_circular_mask(rotated[0], rotated[-1],\\\n",
    "                                  center=center, \\\n",
    "                                     radius=gap_size)\n",
    "    \n",
    "    mask_tot=np.logical_and(circular_mask, ~mask)\n",
    "\n",
    "    rotated= [rotated[0][mask_tot],  rotated[-1][mask_tot]]\n",
    "    \n",
    "    #HSS stuff \n",
    "    if  plot_hss:\n",
    "        HSS_args['pos']=rotated[0], rotated[-1]  #in deg here, can also be unitless\n",
    "        HSS_args['kpc_conversion'] = np.pi * HSS_args['d_galaxy'] / 180.\n",
    "\n",
    "\n",
    "        HSS.RT_plot(HSS_args['pos'], HSS_args['unit'], HSS_args['kpc_conversion'],\\\n",
    "                    HSS_args['delta_t'], HSS_args['drho'],  HSS_args['outlier'],\\\n",
    "                    HSS_args['pointsize'], HSS_args['mask'], filename,\n",
    "                path_plot, HSS_args['verbose'], HSS_args['rho_edge'])\n",
    "    \n",
    "    return stream,  stream_tot, rotated, center"
   ]
  },
  {
   "cell_type": "code",
   "execution_count": 471,
   "metadata": {},
   "outputs": [],
   "source": [
    "HSS_args={'unit':\"unitless\",\n",
    "          'd_galaxy': 1 , #this probably doesn't apply                     \n",
    "          'delta_t': 1.,     \n",
    "          'drho' : 0.02,     \n",
    "          'outlier': . , \n",
    "          'pointsize': 1,\n",
    "          'mask': False,\n",
    "          'verbose': True,\n",
    "          'rho_edge': False}"
   ]
  },
  {
   "cell_type": "code",
   "execution_count": 472,
   "metadata": {},
   "outputs": [],
   "source": [
    "poss=[([8.3, 5., 1000.])*u.kpc, ([10, 15., 0.])*u.kpc, ([0., 5., 0.])*u.kpc]\n",
    "vels=[([-10, 0, 0.])*u.kpc/u.Gyr, ([-10, 3, 1.])*u.kpc/u.Gyr, ([-10, 3, 19.])*u.kpc/u.Gyr]\n",
    "angles=[np.pi/3, 0.75*np.pi, np.pi/4]\n",
    "masses=[1e4, 5e4, 1e5]\n",
    "drhos=[1.0, 2., 5.]"
   ]
  },
  {
   "cell_type": "code",
   "execution_count": 457,
   "metadata": {},
   "outputs": [],
   "source": [
    "import itertools"
   ]
  },
  {
   "cell_type": "code",
   "execution_count": 483,
   "metadata": {},
   "outputs": [],
   "source": [
    "s,_, rot, c =make_fake_stream_plus_gap(5e5, 1000, 6.*u.Myr,  poss[0], vels[0], HSS_args, \\\n",
    "                            gap_size=0.007,\\\n",
    "                            rotation_angle=angles[0], nbackground=1e5, filename='fake_stream', \n",
    "                            circular_radius=0.5, back_ground_radius=10., add_backg=True, plot_hss=False)"
   ]
  },
  {
   "cell_type": "code",
   "execution_count": 484,
   "metadata": {},
   "outputs": [
    {
     "data": {
      "text/plain": [
       "<matplotlib.collections.PathCollection at 0x7f7e92443520>"
      ]
     },
     "execution_count": 484,
     "metadata": {},
     "output_type": "execute_result"
    },
    {
     "data": {
      "image/png": "[encoded data removed]",
      "text/plain": [
       "<Figure size 432x288 with 1 Axes>"
      ]
     },
     "metadata": {
      "needs_background": "light"
     },
     "output_type": "display_data"
    }
   ],
   "source": [
    "fig, ax=plt.subplots()\n",
    "plt.scatter(s.cartesian.x, s.cartesian.y)"
   ]
  },
  {
   "cell_type": "code",
   "execution_count": null,
   "metadata": {},
   "outputs": [],
   "source": [
    "if False:\n",
    "    for perm in list(itertools.product(*[poss, vels, angles, masses,drhos ])):\n",
    "\n",
    "        try:\n",
    "            pos, vel, ang, mass, drho=perm\n",
    "\n",
    "            r_pos=np.round(np.nansum(pos.value**2)**0.5)\n",
    "            r_vel=np.round(np.nansum(vel.value**2)**0.5)\n",
    "\n",
    "            filename='stream_pos{}_vel{}_mass{}_ang{}_drho{}_'.format(r_pos, r_vel, mass,  ang, drho)\n",
    "            HSS_args['drho']=drho\n",
    "            stream, mask, stream_plus_backg, gap_pos, circular_mask=make_fake_stream_plus_gap(mass, 1000, 9*u.Myr, pos, vel, HSS_args, \\\n",
    "                                                                                          gap_size=0.5,\\\n",
    "                                      rotation_angle=ang, nbackground=1e5, filename=filename, \n",
    "                                     circular_radius=5., back_ground_radius=300)\n",
    "        except ValueError:\n",
    "            pass"
   ]
  },
  {
   "cell_type": "code",
   "execution_count": null,
   "metadata": {},
   "outputs": [],
   "source": [
    "#\n",
    "# 1) save the stream in a file after it's made \n",
    "# 2) generate a circular background pos \n",
    "# 3) srore \n",
    "# 4) approx stream "
   ]
  },
  {
   "cell_type": "code",
   "execution_count": null,
   "metadata": {},
   "outputs": [],
   "source": [
    "#30 kpc\n",
    "#200 km/s\n",
    "#milky ay \n",
    "#-70 and 70 kpc\n",
    "#mass = 1e4, 5Gyr\n",
    "#mass =1e6, Gyr\n",
    "#put these in andromeda\n",
    "#rotate it so it's tilted \n",
    "#drop the gaps for a minute\n",
    "#figure out to rotate things \n",
    "#Helmer's \n",
    "#Don't \n",
    "\n",
    "#proritize: generating streams \n",
    "#longer vs ider visua lize have an overvie plot \n",
    "#first revie paper \n",
    "# map the project \n",
    "#doing \n"
   ]
  }
 ],
 "metadata": {
  "kernelspec": {
   "display_name": "Python 3 (ipykernel)",
   "language": "python",
   "name": "python3"
  },
  "language_info": {
   "codemirror_mode": {
    "name": "ipython",
    "version": 3
   },
   "file_extension": ".py",
   "mimetype": "text/x-python",
   "name": "python",
   "nbconvert_exporter": "python",
   "pygments_lexer": "ipython3",
   "version": "3.9.7"
  }
 },
 "nbformat": 4,
 "nbformat_minor": 4
}
