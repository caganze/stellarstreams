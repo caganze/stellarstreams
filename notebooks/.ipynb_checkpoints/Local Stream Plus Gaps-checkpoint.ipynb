{
 "cells": [
  {
   "cell_type": "code",
   "execution_count": 1,
   "metadata": {},
   "outputs": [],
   "source": [
    "#imports\n",
    "import astropy.units as u\n",
    "import numpy as np\n",
    "import gala.potential as gp\n",
    "import gala.dynamics as gd\n",
    "from gala.dynamics import mockstream as ms\n",
    "from gala.units import galactic\n",
    "from astropy.coordinates import SkyCoord, Distance\n",
    "#import popsims\n",
    "import matplotlib.pyplot as plt\n",
    "#%matplotlib notebook\n",
    "from tqdm import tqdm\n",
    "from astropy.constants import G\n",
    "#import HSS\n",
    "from gala.units import galactic\n",
    "import gala.coordinates as gc\n",
    "import  h5py\n",
    "import imageio\n",
    "import matplotlib as mpl\n",
    "\n",
    "import seaborn as sns\n",
    "sns.set_style(\"dark\")\n",
    "mpl.rc('xtick', labelsize=16) \n",
    "mpl.rc('ytick', labelsize=16) \n",
    "font = {#'family' : 'Helvetica',\n",
    "        'size'   : 16}\n",
    "plt.style.use('dark_background')"
   ]
  },
  {
   "cell_type": "code",
   "execution_count": 2,
   "metadata": {},
   "outputs": [],
   "source": [
    "path_plot = '/users/caganze/research/stellarstreams/figures/streamssims/'\n",
    "path_data = '/users/caganze/research/stellarstreams/data/'"
   ]
  },
  {
   "cell_type": "code",
   "execution_count": 3,
   "metadata": {},
   "outputs": [],
   "source": [
    "import astropy.coordinates as coord\n",
    "_ = coord.galactocentric_frame_defaults.set('v4.0')\n",
    "\n",
    "pot=gp.MilkyWayPotential()\n",
    "H = gp.Hamiltonian(pot)"
   ]
  },
  {
   "cell_type": "code",
   "execution_count": 4,
   "metadata": {},
   "outputs": [],
   "source": [
    "def generate_stream_and_perturber(mass, prog_w0, timedict,  nbody=None, output_every=None,\n",
    "                                  output_filename=None):\n",
    "    \"\"\"\n",
    "    Input: mass of the progenitor, its position, other mockstream generator kwrargs\n",
    "    Returns: final stream and its position and velocity\n",
    "    \n",
    "    Calls mockstream generator\n",
    "    \n",
    "    \"\"\"\n",
    "    df = ms.FardalStreamDF()\n",
    "    prog_mass = mass * u.Msun\n",
    "    gen = ms.MockStreamGenerator(df, H)\n",
    "\n",
    "    return gen.run(prog_w0, prog_mass, nbody=nbody,\\\n",
    "                   output_every=output_every, output_filename= output_filename, \\\n",
    "                check_filesize=True, overwrite=True, progress=True, **timedict)\n",
    "\n",
    "def run_stream_and_subhalo(halo_mass, stream_mass, halo_r, halo_pos, stream_pos, timedict,\n",
    "                           filename='mockstream',\n",
    "                            output_every=1, potential_type='plummer'):\n",
    "    \"\"\"\n",
    "    runs a subhalo and a stream \n",
    "    \n",
    "    returns the progenitor position and the final stream\n",
    "    \n",
    "    Takes in the parameters of the subhalos\n",
    "    \n",
    "    \"\"\"\n",
    "    \n",
    "    #create a plummer sphere \n",
    "    point_potential=gp.PlummerPotential(halo_mass*u.Msun,  halo_r, units=galactic)\n",
    "    \n",
    "    #if potential_type\n",
    "    if  potential_type.lower()=='hernquist':\n",
    "        point_potential=gp.HernquistPotential(halo_mass*u.Msun,  halo_r, units=galactic)\n",
    "        \n",
    "    #create an Nbody potential object\n",
    "    Massive_body=gd.DirectNBody(halo_pos, [point_potential], external_potential=pot)\n",
    "    \n",
    "    return  generate_stream_and_perturber(stream_mass,  stream_pos, timedict, \\\n",
    "                                      nbody=Massive_body,\n",
    "                                    output_every=output_every, \\\n",
    "                                    output_filename=path_data+'/'+filename)\n",
    "\n",
    "def read_stream_file(filename):\n",
    "    \"\"\"\n",
    "    reads in a saved stream run \n",
    "    returns the subhalo, progenitor and stream\n",
    "    \"\"\"\n",
    "    \n",
    "    f = h5py.File(path_data+'/'+filename, mode='r')\n",
    "    \n",
    "    body=f['nbody']\n",
    "    stream_cont=f['stream']\n",
    "    return body, stream_cont\n",
    "\n",
    "def plot_stream_and_body(idx, stream_cont, body, time_dict, \\\n",
    "                        xlim=[-5, 5], ylim=[-5, 5], zlim=[-5, 5]):\n",
    "    \n",
    "    body_pos=body['pos']\n",
    "    stream_pos=stream_cont['pos']\n",
    "    \n",
    "    if 't' in time_dict.keys():\n",
    "        t=time_dict['t'][idx]\n",
    "    else:\n",
    "        t= time_dict['tmin']+20*idx*time_dict['dt']\n",
    "    t=t.to(u.Myr)\n",
    "    \n",
    "    fig, (ax, ax1, ax2)=plt.subplots(figsize=(12, 4), ncols=3)\n",
    "    \n",
    "    fig.suptitle('T = {:.0f}, Timesetep = {}'.format(t,idx ), fontsize=16)\n",
    "\n",
    "    \n",
    "    ax.scatter(stream_pos[0][idx], stream_pos[1][idx],  s=1, alpha=0.5, c='#FFFFFF', label='Stream')\n",
    "    ax.scatter(body_pos[0][idx][1], body_pos[1][idx][1],  s=100, alpha=0.5, c='#01FF70',\\\n",
    "               label='Subhalo')\n",
    "    \n",
    "    \n",
    "    ax1.scatter(stream_pos[0][idx], stream_pos[-1][idx],  s=1, alpha=0.5, c='#FFFFFF', label='Stream')\n",
    "    ax1.scatter(body_pos[0][idx][1], body_pos[-1][idx][1],  s=100, alpha=0.5, c='#01FF70',\\\n",
    "               label='Subhalo')\n",
    "    \n",
    "    ax2.scatter(stream_pos[1][idx], stream_pos[-1][idx],  s=1, alpha=0.5, c='#FFFFFF', label='Stream')\n",
    "    ax2.scatter(body_pos[1][idx][1], body_pos[-1][idx][1],  s=100, alpha=0.5, c='#01FF70',\\\n",
    "               label='Subhalo')\n",
    "   \n",
    "    \n",
    "\n",
    "    ax.minorticks_on()\n",
    "    ax1.minorticks_on()\n",
    "\n",
    "    ax1.legend(fontsize=14)\n",
    "    ax.set(xlabel='x (pc)', ylabel='y (pc)')\n",
    "    ax1.set(xlabel='x (pc)', ylabel='z (pc)')\n",
    "    ax2.set(xlabel=r'y (pc)', ylabel='z (pc)')\n",
    "    \n",
    "    ax.set(xlim=xlim, ylim=ylim)\n",
    "    ax1.set(xlim=xlim, ylim=zlim)\n",
    "    ax2.set(xlim=ylim, ylim=zlim)\n",
    "    \n",
    "    plt.tight_layout()\n",
    "    \n",
    "    \n",
    "    # IMPORTANT ANIMATION CODE HERE\n",
    "    # Used to keep the limits constant\n",
    "\n",
    "    # Used to return the plot as an image rray\n",
    "    fig.canvas.draw()       # draw the canvas, cache the renderer\n",
    "    image = np.frombuffer(fig.canvas.tostring_rgb(), dtype='uint8')\n",
    "    image  = image.reshape(fig.canvas.get_width_height()[::-1] + (3,))\n",
    "    \n",
    "\n",
    "\n",
    "    return image"
   ]
  },
  {
   "cell_type": "code",
   "execution_count": 5,
   "metadata": {},
   "outputs": [],
   "source": [
    "#compute a stream and then add acceleration from subhalo\n",
    "st_pos = gd.PhaseSpacePosition(pos=[10., 0., 0.] * u.kpc,\n",
    "                                vel=[0, 170, 0.] * u.km/u.s)\n",
    "halo_pos = gd.PhaseSpacePosition(pos=[10., 0., 0.0] * u.kpc,\n",
    "                                      vel=[0.,  0., -500] * u.km/u.s)"
   ]
  },
  {
   "cell_type": "code",
   "execution_count": 6,
   "metadata": {},
   "outputs": [],
   "source": [
    "mstream=5e4\n",
    "mhalo=1e9\n",
    "halo_r=1*u.pc\n",
    "tmax=500\n",
    "tmin=0.\n",
    "nsteps=300\n",
    "filename='nsims_cntrolle_mhalo{:.1e}_mstream{:.1e}_rhalo{:.1e}_tmax{:.1e}_tmin{:1e}'.format(mhalo, mstream, halo_r,tmax, tmin )\n",
    "#time_dict={'t1': tmin, 't2': tmax,  'n_steps': nsteps }\n",
    "time_dict={'t': np.linspace(tmin, tmax, nsteps)*u.Myr}"
   ]
  },
  {
   "cell_type": "code",
   "execution_count": 7,
   "metadata": {},
   "outputs": [
    {
     "data": {
      "text/plain": [
       "'nsims_cntrolle_mhalo1.0e+09_mstream5.0e+04_rhalo1.0e+00 pc_tmax5.0e+02_tmin0.000000e+00'"
      ]
     },
     "execution_count": 7,
     "metadata": {},
     "output_type": "execute_result"
    }
   ],
   "source": [
    "filename"
   ]
  },
  {
   "cell_type": "code",
   "execution_count": 8,
   "metadata": {},
   "outputs": [],
   "source": [
    "#not cool\n",
    "#orbit1 = gp.Hamiltonian(pot).integrate_orbit(st_pos,  n_steps=nsteps, **time_dict)\n",
    "#orbit2= gp.Hamiltonian(pot).integrate_orbit(halo_pos,   n_steps=nsteps,  **time_dict)"
   ]
  },
  {
   "cell_type": "code",
   "execution_count": 9,
   "metadata": {},
   "outputs": [
    {
     "data": {
      "text/latex": [
       "$[0,~1.6722408,~3.3444816,~\\dots,~496.65552,~498.32776,~500] \\; \\mathrm{Myr}$"
      ],
      "text/plain": [
       "<Quantity [  0.        ,   1.6722408 ,   3.34448161,   5.01672241,\n",
       "             6.68896321,   8.36120401,  10.03344482,  11.70568562,\n",
       "            13.37792642,  15.05016722,  16.72240803,  18.39464883,\n",
       "            20.06688963,  21.73913043,  23.41137124,  25.08361204,\n",
       "            26.75585284,  28.42809365,  30.10033445,  31.77257525,\n",
       "            33.44481605,  35.11705686,  36.78929766,  38.46153846,\n",
       "            40.13377926,  41.80602007,  43.47826087,  45.15050167,\n",
       "            46.82274247,  48.49498328,  50.16722408,  51.83946488,\n",
       "            53.51170569,  55.18394649,  56.85618729,  58.52842809,\n",
       "            60.2006689 ,  61.8729097 ,  63.5451505 ,  65.2173913 ,\n",
       "            66.88963211,  68.56187291,  70.23411371,  71.90635452,\n",
       "            73.57859532,  75.25083612,  76.92307692,  78.59531773,\n",
       "            80.26755853,  81.93979933,  83.61204013,  85.28428094,\n",
       "            86.95652174,  88.62876254,  90.30100334,  91.97324415,\n",
       "            93.64548495,  95.31772575,  96.98996656,  98.66220736,\n",
       "           100.33444816, 102.00668896, 103.67892977, 105.35117057,\n",
       "           107.02341137, 108.69565217, 110.36789298, 112.04013378,\n",
       "           113.71237458, 115.38461538, 117.05685619, 118.72909699,\n",
       "           120.40133779, 122.0735786 , 123.7458194 , 125.4180602 ,\n",
       "           127.090301  , 128.76254181, 130.43478261, 132.10702341,\n",
       "           133.77926421, 135.45150502, 137.12374582, 138.79598662,\n",
       "           140.46822742, 142.14046823, 143.81270903, 145.48494983,\n",
       "           147.15719064, 148.82943144, 150.50167224, 152.17391304,\n",
       "           153.84615385, 155.51839465, 157.19063545, 158.86287625,\n",
       "           160.53511706, 162.20735786, 163.87959866, 165.55183946,\n",
       "           167.22408027, 168.89632107, 170.56856187, 172.24080268,\n",
       "           173.91304348, 175.58528428, 177.25752508, 178.92976589,\n",
       "           180.60200669, 182.27424749, 183.94648829, 185.6187291 ,\n",
       "           187.2909699 , 188.9632107 , 190.63545151, 192.30769231,\n",
       "           193.97993311, 195.65217391, 197.32441472, 198.99665552,\n",
       "           200.66889632, 202.34113712, 204.01337793, 205.68561873,\n",
       "           207.35785953, 209.03010033, 210.70234114, 212.37458194,\n",
       "           214.04682274, 215.71906355, 217.39130435, 219.06354515,\n",
       "           220.73578595, 222.40802676, 224.08026756, 225.75250836,\n",
       "           227.42474916, 229.09698997, 230.76923077, 232.44147157,\n",
       "           234.11371237, 235.78595318, 237.45819398, 239.13043478,\n",
       "           240.80267559, 242.47491639, 244.14715719, 245.81939799,\n",
       "           247.4916388 , 249.1638796 , 250.8361204 , 252.5083612 ,\n",
       "           254.18060201, 255.85284281, 257.52508361, 259.19732441,\n",
       "           260.86956522, 262.54180602, 264.21404682, 265.88628763,\n",
       "           267.55852843, 269.23076923, 270.90301003, 272.57525084,\n",
       "           274.24749164, 275.91973244, 277.59197324, 279.26421405,\n",
       "           280.93645485, 282.60869565, 284.28093645, 285.95317726,\n",
       "           287.62541806, 289.29765886, 290.96989967, 292.64214047,\n",
       "           294.31438127, 295.98662207, 297.65886288, 299.33110368,\n",
       "           301.00334448, 302.67558528, 304.34782609, 306.02006689,\n",
       "           307.69230769, 309.36454849, 311.0367893 , 312.7090301 ,\n",
       "           314.3812709 , 316.05351171, 317.72575251, 319.39799331,\n",
       "           321.07023411, 322.74247492, 324.41471572, 326.08695652,\n",
       "           327.75919732, 329.43143813, 331.10367893, 332.77591973,\n",
       "           334.44816054, 336.12040134, 337.79264214, 339.46488294,\n",
       "           341.13712375, 342.80936455, 344.48160535, 346.15384615,\n",
       "           347.82608696, 349.49832776, 351.17056856, 352.84280936,\n",
       "           354.51505017, 356.18729097, 357.85953177, 359.53177258,\n",
       "           361.20401338, 362.87625418, 364.54849498, 366.22073579,\n",
       "           367.89297659, 369.56521739, 371.23745819, 372.909699  ,\n",
       "           374.5819398 , 376.2541806 , 377.9264214 , 379.59866221,\n",
       "           381.27090301, 382.94314381, 384.61538462, 386.28762542,\n",
       "           387.95986622, 389.63210702, 391.30434783, 392.97658863,\n",
       "           394.64882943, 396.32107023, 397.99331104, 399.66555184,\n",
       "           401.33779264, 403.01003344, 404.68227425, 406.35451505,\n",
       "           408.02675585, 409.69899666, 411.37123746, 413.04347826,\n",
       "           414.71571906, 416.38795987, 418.06020067, 419.73244147,\n",
       "           421.40468227, 423.07692308, 424.74916388, 426.42140468,\n",
       "           428.09364548, 429.76588629, 431.43812709, 433.11036789,\n",
       "           434.7826087 , 436.4548495 , 438.1270903 , 439.7993311 ,\n",
       "           441.47157191, 443.14381271, 444.81605351, 446.48829431,\n",
       "           448.16053512, 449.83277592, 451.50501672, 453.17725753,\n",
       "           454.84949833, 456.52173913, 458.19397993, 459.86622074,\n",
       "           461.53846154, 463.21070234, 464.88294314, 466.55518395,\n",
       "           468.22742475, 469.89966555, 471.57190635, 473.24414716,\n",
       "           474.91638796, 476.58862876, 478.26086957, 479.93311037,\n",
       "           481.60535117, 483.27759197, 484.94983278, 486.62207358,\n",
       "           488.29431438, 489.96655518, 491.63879599, 493.31103679,\n",
       "           494.98327759, 496.65551839, 498.3277592 , 500.        ] Myr>"
      ]
     },
     "execution_count": 9,
     "metadata": {},
     "output_type": "execute_result"
    }
   ],
   "source": [
    "time_dict['t']"
   ]
  },
  {
   "cell_type": "code",
   "execution_count": 10,
   "metadata": {},
   "outputs": [
    {
     "name": "stdout",
     "output_type": "stream",
     "text": [
      "Integrating orbits:  100%"
     ]
    }
   ],
   "source": [
    "#call mockstream generator\n",
    "df = ms.FardalStreamDF()\n",
    "prog_mass = mstream* u.Msun\n",
    "gen = ms.MockStreamGenerator(df, H)\n",
    "mock_st, mock_pos=gen.run(st_pos, prog_mass, **time_dict, nbody=None, progress=True)"
   ]
  },
  {
   "cell_type": "code",
   "execution_count": null,
   "metadata": {},
   "outputs": [
    {
     "name": "stdout",
     "output_type": "stream",
     "text": [
      "Integrating orbits:  12%"
     ]
    }
   ],
   "source": [
    "out =  run_stream_and_subhalo(mhalo, mstream, halo_r, halo_pos, st_pos,  time_dict,\n",
    "                           filename=filename,   potential_type='plummer')"
   ]
  },
  {
   "cell_type": "code",
   "execution_count": null,
   "metadata": {},
   "outputs": [],
   "source": [
    "bdy_all, stream_all=read_stream_file(filename)"
   ]
  },
  {
   "cell_type": "code",
   "execution_count": null,
   "metadata": {},
   "outputs": [],
   "source": [
    "#plot gifs to see if there as a collision\n",
    "kwargs_write = {'fps':10.0, 'quantizer':'nq'}\n",
    "_= imageio.mimsave(path_plot+'/'+ filename+'.gif',\\\n",
    "                   [ plot_stream_and_body(i, stream_all, bdy_all,  time_dict,\\\n",
    "                    xlim=[-30, 30], ylim=[-30, 30], zlim=[-20, 20]) for i in \\\n",
    "                                     np.arange( bdy_all['pos'].shape[1])], \\\n",
    "                   fps=10.0)"
   ]
  },
  {
   "cell_type": "code",
   "execution_count": null,
   "metadata": {},
   "outputs": [],
   "source": [
    "#try something else\n",
    "#generate a stream\n",
    "#pick a point on the stream\n",
    "#integrate it back using a different velocity but same position\n",
    "#give this these positions to the nbody\n",
    "#integrate stream and nbody in positive\n"
   ]
  },
  {
   "cell_type": "code",
   "execution_count": null,
   "metadata": {
    "scrolled": true
   },
   "outputs": [],
   "source": [
    "_=mock_st.plot(s=2, c='k')"
   ]
  },
  {
   "cell_type": "code",
   "execution_count": null,
   "metadata": {},
   "outputs": [],
   "source": [
    "#pick a position\n",
    "collision_pos=mock_st.cartesian.xyz[:,-150]"
   ]
  },
  {
   "cell_type": "code",
   "execution_count": null,
   "metadata": {},
   "outputs": [],
   "source": [
    "#give it a velocity\n",
    "collision_phase_space_pos=gd.PhaseSpacePosition(pos=collision_pos,\n",
    "                                vel=[0, 0, -300] * u.km/u.s)\n",
    "#integrate it back\n",
    "collision_orbit= gp.Hamiltonian(pot).integrate_orbit(collision_phase_space_pos,  dt=-1*u.Myr,\\\n",
    "                                                     t1=0.*u.Myr, t2=-tmax*u.Myr)"
   ]
  },
  {
   "cell_type": "code",
   "execution_count": null,
   "metadata": {},
   "outputs": [],
   "source": [
    "collision_pos"
   ]
  },
  {
   "cell_type": "code",
   "execution_count": null,
   "metadata": {},
   "outputs": [],
   "source": [
    "collision_orbit.xyz[:,-1], collision_orbit.xyz[:,-1], collision_orbit.v_xyz[:,0]"
   ]
  },
  {
   "cell_type": "code",
   "execution_count": null,
   "metadata": {},
   "outputs": [],
   "source": [
    "filename_bck=filename+'backintegrated'"
   ]
  },
  {
   "cell_type": "code",
   "execution_count": null,
   "metadata": {},
   "outputs": [],
   "source": [
    "time_dict= {'t':np.linspace(0, tmax+200, int(1e3))*u.Myr}"
   ]
  },
  {
   "cell_type": "code",
   "execution_count": null,
   "metadata": {},
   "outputs": [],
   "source": [
    "#collision_orbit[-1].v_xyz"
   ]
  },
  {
   "cell_type": "code",
   "execution_count": null,
   "metadata": {},
   "outputs": [],
   "source": [
    "#create this as the halo orbit\n",
    "collision_halo_pos=gd.PhaseSpacePosition(pos=collision_orbit.xyz[:,-1],\n",
    "                              vel=collision_orbit.v_xyz[:,-1])\n",
    "#collision_halo_pos=collision_orbit[-1]\n",
    "#run it forard in time ith the stream\n",
    "col_stream, col_pos =  run_stream_and_subhalo(mhalo, mstream, halo_r, collision_halo_pos, \\\n",
    "                                              st_pos,  time_dict,\n",
    "                           filename=filename_bck,   potential_type='plummer')"
   ]
  },
  {
   "cell_type": "code",
   "execution_count": null,
   "metadata": {},
   "outputs": [],
   "source": [
    "print ('initial conditions')\n",
    "st_pos.xyz, collision_halo_pos.xyz"
   ]
  },
  {
   "cell_type": "code",
   "execution_count": null,
   "metadata": {},
   "outputs": [],
   "source": [
    "print ('final conditions positions', col_pos.xyz.T)"
   ]
  },
  {
   "cell_type": "code",
   "execution_count": null,
   "metadata": {},
   "outputs": [],
   "source": [
    "print ('final conditions velocities', col_pos.v_xyz.T)"
   ]
  },
  {
   "cell_type": "code",
   "execution_count": null,
   "metadata": {},
   "outputs": [],
   "source": [
    "print ('desired final conditions', collision_orbit.xyz[:,0])"
   ]
  },
  {
   "cell_type": "code",
   "execution_count": null,
   "metadata": {},
   "outputs": [],
   "source": [
    "#out\n",
    "#visualize\n",
    "bdy_all, stream_all=read_stream_file(filename_bck)"
   ]
  },
  {
   "cell_type": "code",
   "execution_count": null,
   "metadata": {},
   "outputs": [],
   "source": [
    "fig, (ax, ax1, ax2)=plt.subplots(ncols=3, figsize=(12, 4))\n",
    "ax.plot(bdy_all['pos'][:,:,0][0], bdy_all['pos'][:,:,0][1],\\\n",
    "        label='Stream')\n",
    "c=ax.plot(bdy_all['pos'][:,:,1][0], bdy_all['pos'][:,:,1][1], \\\n",
    "        label='Subhalo')\n",
    "\n",
    "ax1.plot(bdy_all['pos'][:,:,0][0], bdy_all['pos'][:,:,0][-1],\\\n",
    "        label='Stream')\n",
    "c=ax1.plot(bdy_all['pos'][:,:,1][0], bdy_all['pos'][:,:,1][-1], \\\n",
    "        label='Subhalo')\n",
    "\n",
    "ax2.plot(bdy_all['pos'][:,:,0][1], bdy_all['pos'][:,:,0][-1],\\\n",
    "        label='Stream')\n",
    "c=ax2.plot(bdy_all['pos'][:,:,1][1], bdy_all['pos'][:,:,1][-1], \\\n",
    "        label='Subhalo')\n",
    "\n",
    "ax.scatter(collision_pos[0], collision_pos[1], marker='x', s=100, c='k')\n",
    "ax1.scatter(collision_pos[0], collision_pos[-1], marker='x', s=100, c='k')\n",
    "ax2.scatter(collision_pos[1], collision_pos[-1], marker='x', s=100, c='k')\n",
    "\n",
    "plt.legend()\n",
    "ax.set( xlabel='x (pc)', ylabel=' y (pc)')\n",
    "ax1.set( xlabel='x (pc)', ylabel=' z (pc)')\n",
    "ax2.set( xlabel='y (pc)', ylabel=' z (pc)')\n",
    "#cbar=plt.colorbar(c)\n",
    "#cbar.ax.set(ylabel='Time (Myr)')\n",
    "plt.tight_layout()"
   ]
  },
  {
   "cell_type": "code",
   "execution_count": null,
   "metadata": {},
   "outputs": [],
   "source": [
    "idxs=np.logical_and(time_dict['t'].value > 470, time_dict['t'].value < 530)"
   ]
  },
  {
   "cell_type": "code",
   "execution_count": null,
   "metadata": {},
   "outputs": [],
   "source": [
    "steps=np.arange(len(time_dict['t'].value))[idxs]"
   ]
  },
  {
   "cell_type": "code",
   "execution_count": null,
   "metadata": {},
   "outputs": [],
   "source": [
    "len(steps)"
   ]
  },
  {
   "cell_type": "code",
   "execution_count": null,
   "metadata": {},
   "outputs": [],
   "source": [
    "#hgjk"
   ]
  },
  {
   "cell_type": "code",
   "execution_count": null,
   "metadata": {},
   "outputs": [],
   "source": [
    "if False :\n",
    "    for s in steps:\n",
    "        st_snapshot=stream_all['pos'][:, s, :]\n",
    "\n",
    "        st_body, hl_body=(bdy_all['pos'][:, s, :]).T\n",
    "\n",
    "        fig, ax=plt.subplots(ncols=3, figsize=(12, 4))\n",
    "\n",
    "        ax[0].scatter( st_snapshot[0], st_snapshot[1], s=1, alpha=0.5)\n",
    "        ax[1].scatter( st_snapshot[0], st_snapshot[-1], s=1, alpha=0.5)\n",
    "        ax[-1].scatter( st_snapshot[1], st_snapshot[-1], s=1, alpha=0.5)\n",
    "\n",
    "        #ax[0].scater(st_body, )\n",
    "\n",
    "        ax[0].scatter(collision_pos[0], collision_pos[1], marker='x', s=100, c='k')\n",
    "        ax[1].scatter(collision_pos[0], collision_pos[-1], marker='x', s=100, c='k')\n",
    "        ax[-1].scatter(collision_pos[1], collision_pos[-1], marker='x', s=100, c='k')\n",
    "\n",
    "        for body in [st_body, hl_body]:\n",
    "\n",
    "            ax[0].scatter(body[0], body[1], marker='o', s=100)\n",
    "            ax[1].scatter(body[0], body[-1], marker='o', s=100)\n",
    "            ax[-1].scatter(body[1], body[-1], marker='o', s=100)\n",
    "\n",
    "        for a in ax:\n",
    "            a.minorticks_on()\n",
    "\n",
    "        ax[0].set( xlabel='x (pc)', ylabel=' y (pc)')\n",
    "        ax[1].set( xlabel='x (pc)', ylabel=' z (pc)')\n",
    "        ax[-1].set( xlabel='y (pc)', ylabel=' z (pc)')\n",
    "        #cbar=plt.colorbar(c)\n",
    "        plt.tight_layout()"
   ]
  },
  {
   "cell_type": "code",
   "execution_count": null,
   "metadata": {},
   "outputs": [],
   "source": [
    "filename_bck"
   ]
  },
  {
   "cell_type": "code",
   "execution_count": null,
   "metadata": {},
   "outputs": [],
   "source": [
    "path_plot"
   ]
  },
  {
   "cell_type": "code",
   "execution_count": null,
   "metadata": {
    "scrolled": true
   },
   "outputs": [],
   "source": [
    "#plot gifs to see if there as a collision\n",
    "kwargs_write = {'fps':20.0, 'quantizer':'nq'}\n",
    "_= imageio.mimsave(path_plot+'/'+ filename_bck+'.gif',\\\n",
    "                   [ plot_stream_and_body(i, stream_all, bdy_all,  time_dict,\\\n",
    "                    xlim=[-15, 15], ylim=[-15, 15], zlim=[-15, 15]) for i in \\\n",
    "                                     steps], \\\n",
    "                   fps=10.0)"
   ]
  },
  {
   "cell_type": "code",
   "execution_count": null,
   "metadata": {},
   "outputs": [],
   "source": [
    "final_col_stream_pos=gd.PhaseSpacePosition(pos=col_stream.xyz,\n",
    "                                           vel=col_stream.v_xyz)\n",
    "final_progen_pos=gd.PhaseSpacePosition(pos=col_pos.xyz,\n",
    "                                           vel=col_pos.v_xyz)"
   ]
  },
  {
   "cell_type": "code",
   "execution_count": null,
   "metadata": {},
   "outputs": [],
   "source": [
    "final_stream_orbit=gp.Hamiltonian(pot).integrate_orbit(final_col_stream_pos,  dt=1*u.Myr,\\\n",
    "                                                     t1=0.*u.Myr, t2=200*u.Myr)"
   ]
  },
  {
   "cell_type": "code",
   "execution_count": null,
   "metadata": {},
   "outputs": [],
   "source": [
    "final_prog_orbit=gp.Hamiltonian(pot).integrate_orbit(final_progen_pos,   dt=1*u.Myr,\\\n",
    "                                                     t1=0.*u.Myr, t2=200*u.Myr)"
   ]
  },
  {
   "cell_type": "code",
   "execution_count": null,
   "metadata": {},
   "outputs": [],
   "source": [
    "np.shape(final_stream_orbit.xyz)"
   ]
  },
  {
   "cell_type": "code",
   "execution_count": null,
   "metadata": {},
   "outputs": [],
   "source": [
    "_= final_stream_orbit.plot(c='b')"
   ]
  },
  {
   "cell_type": "code",
   "execution_count": null,
   "metadata": {},
   "outputs": [],
   "source": [
    "#animate the gap evolution?\n",
    "fig, anim = final_stream_orbit.animate(stride=10,   underplot_full_orbit=False,\n",
    "                           FuncAnimation_kwargs=dict(interval=10), marker_style={'ms':2, 'c':'#7FDBFF'})"
   ]
  },
  {
   "cell_type": "code",
   "execution_count": null,
   "metadata": {},
   "outputs": [],
   "source": [
    "anim.save(path_plot+'/gap_orbit{}.gif'.format(filename), dpi=80, writer='imagemagick')"
   ]
  },
  {
   "cell_type": "code",
   "execution_count": null,
   "metadata": {},
   "outputs": [],
   "source": [
    "fig, (ax, ax1, ax2)=plt.subplots(ncols=3, figsize=(12, 4) )\n",
    "ax.scatter(final_stream_orbit.x[-1], final_stream_orbit.y[-1],  s=1, alpha=0.2, c='#FFFFFF')\n",
    "ax1.scatter(final_stream_orbit.y[-1], final_stream_orbit.z[-1], s=1, alpha=0.2, c='#FFFFFF')\n",
    "ax2.scatter(final_stream_orbit.x[-1], final_stream_orbit.z[-1], s=1, alpha=0.2, c='#FFFFFF')\n",
    "\n",
    "ax.scatter(final_prog_orbit[-1].x[0], final_prog_orbit[-1].y[0],  s=100, c='#0074D9')\n",
    "ax1.scatter(final_prog_orbit[-1].y[0], final_prog_orbit[-1].z[0],  s=100, c='#0074D9')\n",
    "ax2.scatter(final_prog_orbit[-1].x[0], final_prog_orbit[-1].z[0],  s=100, c='#0074D9')\n",
    "\n",
    "\n",
    "ax.set( xlabel='x (pc)', ylabel=' y (pc)')\n",
    "ax1.set( xlabel='x (pc)', ylabel=' z (pc)')\n",
    "ax2.set( xlabel='y (pc)', ylabel=' z (pc)')\n",
    "\n",
    "ax.minorticks_on()\n",
    "ax1.minorticks_on()\n",
    "ax2.minorticks_on()\n",
    "\n",
    "plt.tight_layout()\n",
    "plt.savefig(path_plot+'/xyz_final{}.jpeg'.format(filename))"
   ]
  },
  {
   "cell_type": "code",
   "execution_count": null,
   "metadata": {},
   "outputs": [],
   "source": [
    "stream_c = final_stream_orbit[-1].to_coord_frame(coord.ICRS)\n",
    "proge_c=final_prog_orbit[-1].to_coord_frame(coord.ICRS)"
   ]
  },
  {
   "cell_type": "code",
   "execution_count": null,
   "metadata": {},
   "outputs": [],
   "source": [
    "fig, ax=plt.subplots(figsize=(12, 4))\n",
    "ax.scatter(stream_c.ra, stream_c.dec, s=1., c='#FFFFFF', alpha=1.)\n",
    "ax.scatter(proge_c.ra[0], proge_c.dec[0],  s=100, c='#0074D9')\n",
    "ax.set_xlabel('ra (deg)', fontsize=18)# ylabel='dec (deg)')\n",
    "ax.set_ylabel('dec (deg)', fontsize=18)\n",
    "plt.tight_layout()\n",
    "plt.savefig(path_plot+'/ra_dec_final{}.jpeg'.format(filename))"
   ]
  },
  {
   "cell_type": "code",
   "execution_count": null,
   "metadata": {},
   "outputs": [],
   "source": [
    "#rotate in the stream reference frame?\n",
    "end_points=coord.SkyCoord(ra=[260., 320]*u.deg,\n",
    "                        dec=[-40, 40]*u.deg)\n",
    "#rotate in stream reference frame \n",
    "fr = gc.GreatCircleICRSFrame.from_endpoints(end_points[0], end_points[1],\n",
    "                                            ra0=np.nanmean(stream_c.ra))\n",
    "stream_c_fr = stream_c.transform_to(fr)"
   ]
  },
  {
   "cell_type": "code",
   "execution_count": null,
   "metadata": {},
   "outputs": [],
   "source": [
    "fig, ax=plt.subplots(figsize=(12, 4))\n",
    "ax.scatter(stream_c_fr.phi1, stream_c_fr.phi2,s=1., c='#FFFFFF', alpha=1.)\n",
    "ax.minorticks_on()\n",
    "ax.set(xlabel=r'$\\phi_1$', ylabel=r'$\\phi_2$')"
   ]
  },
  {
   "cell_type": "code",
   "execution_count": null,
   "metadata": {},
   "outputs": [],
   "source": [
    "fav_stream=[stream_c_fr.phi1, stream_c_fr.phi2]"
   ]
  },
  {
   "cell_type": "code",
   "execution_count": null,
   "metadata": {},
   "outputs": [],
   "source": [
    "#np.save(path_data+'/plummer_stream_real.npy', fav_stream)"
   ]
  }
 ],
 "metadata": {
  "kernelspec": {
   "display_name": "Python 3 (ipykernel)",
   "language": "python",
   "name": "python3"
  },
  "language_info": {
   "codemirror_mode": {
    "name": "ipython",
    "version": 3
   },
   "file_extension": ".py",
   "mimetype": "text/x-python",
   "name": "python",
   "nbconvert_exporter": "python",
   "pygments_lexer": "ipython3",
   "version": "3.9.7"
  }
 },
 "nbformat": 4,
 "nbformat_minor": 4
}
