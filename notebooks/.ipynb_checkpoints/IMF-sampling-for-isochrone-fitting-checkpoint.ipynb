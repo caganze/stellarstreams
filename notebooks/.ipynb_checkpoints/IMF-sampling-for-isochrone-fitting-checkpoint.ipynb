{
 "cells": [
  {
   "cell_type": "code",
   "execution_count": 1,
   "metadata": {},
   "outputs": [],
   "source": [
    "%matplotlib inline"
   ]
  },
  {
   "cell_type": "code",
   "execution_count": 1,
   "metadata": {},
   "outputs": [],
   "source": [
    "import numpy as np\n",
    "import matplotlib.pyplot as plt\n",
    "import scipy.stats as st\n",
    "import scipy.interpolate as interp\n",
    "from astropy import units as u\n",
    "from astropy import constants as const\n",
    "from tqdm import tqdm"
   ]
  },
  {
   "cell_type": "markdown",
   "metadata": {},
   "source": [
    "Run IMF sampling for masses that are relevant for the isochrones used for fitting with many mnay stars.\n"
   ]
  },
  {
   "cell_type": "code",
   "execution_count": 2,
   "metadata": {},
   "outputs": [],
   "source": [
    "path_plot = '/users/caganze/research/stellarstreams/figures/isochrones/'\n",
    "path_data = '/users/caganze/research/stellarstreams/data/isochrones/'"
   ]
  },
  {
   "cell_type": "code",
   "execution_count": null,
   "metadata": {},
   "outputs": [
    {
     "name": "stdout",
     "output_type": "stream",
     "text": [
      "done 0 of 16\n"
     ]
    }
   ],
   "source": [
    "dist_mod_Pal5 = 16.8553 #Pal 5\n",
    "#dist_mod_And = 16.8553 + 7.6 #Andromeda \n",
    "dist_mod_And = 24.47 #from Ibata+2014\n",
    "\n",
    "wfirst_mini = np.loadtxt(path_data+'/WFIRST_PARSEC_isochrones_grid.txt', skiprows = 12, usecols = [2])\n",
    "wfirst_mags = np.loadtxt(path_data+'/WFIRST_PARSEC_isochrones_grid.txt', skiprows = 12, usecols = [10,11,12,13,14,15])\n",
    "isos = np.loadtxt(path_data+'/WFIRST_PARSEC_isochrones_grid.txt', skiprows = 12, usecols = [0,1])\n",
    "all_iso = []\n",
    "start_feh = [0,0,0,0]\n",
    "start_age = np.repeat(0,16)\n",
    "j_feh = 1\n",
    "j_age = 1\n",
    "for i in range(len(isos[:,0])-1):\n",
    "    if (isos[i+1,0] != isos[i,0]):\n",
    "        start_feh[j_feh] = i+1\n",
    "        j_feh = j_feh + 1\n",
    "    if (isos[i+1,1] != isos[i,1]):\n",
    "        start_age[j_age] = i+1\n",
    "        j_age = j_age + 1\n",
    "\n",
    "for i in range(len(start_age)):\n",
    "#for i in range(1):\n",
    "    start_isochrone = start_age[i]\n",
    "    if i == len(start_age)-1:\n",
    "        end_isochrone = len(wfirst_mini)-1\n",
    "    else:\n",
    "        end_isochrone = start_age[i+1]-1\n",
    "    inter_Rmags = interp.interp1d(wfirst_mini[start_isochrone:end_isochrone], \n",
    "                                  wfirst_mags[start_isochrone:end_isochrone,0])\n",
    "    inter_Zmags = interp.interp1d(wfirst_mini[start_isochrone:end_isochrone], \n",
    "                                  wfirst_mags[start_isochrone:end_isochrone,1])\n",
    "    inter_Ymags = interp.interp1d(wfirst_mini[start_isochrone:end_isochrone], \n",
    "                                  wfirst_mags[start_isochrone:end_isochrone,2])\n",
    "    inter_Jmags = interp.interp1d(wfirst_mini[start_isochrone:end_isochrone], \n",
    "                                  wfirst_mags[start_isochrone:end_isochrone,3])\n",
    "    inter_Hmags = interp.interp1d(wfirst_mini[start_isochrone:end_isochrone], \n",
    "                                  wfirst_mags[start_isochrone:end_isochrone,4])\n",
    "    inter_Fmags = interp.interp1d(wfirst_mini[start_isochrone:end_isochrone], \n",
    "                                  wfirst_mags[start_isochrone:end_isochrone,5])\n",
    "\n",
    "    #sample from IMF sub-region renormalize to the right edges.\n",
    "    class imf_sub(st.rv_continuous):\n",
    "        def _pdf(self,x):\n",
    "            return 1.0/(2*np.sqrt(np.max(wfirst_mini[start_isochrone:end_isochrone]))-2*np.sqrt(np.min(wfirst_mini[start_isochrone:end_isochrone])))*x**(-0.5)  # Normalized over its range, in this case [0.01,120]\n",
    "\n",
    "\n",
    "    my_imf_low = imf_sub(a=np.min(wfirst_mini[start_isochrone:end_isochrone]), \n",
    "                         b=np.max(wfirst_mini[start_isochrone:end_isochrone]), name='sub')\n",
    "    \n",
    "    num = 1000000\n",
    "    sample_lowmasses = my_imf_low.rvs(size=num)\n",
    "    sample_Rmags = inter_Rmags(sample_lowmasses)\n",
    "    sample_Zmags = inter_Zmags(sample_lowmasses)\n",
    "    sample_Ymags = inter_Ymags(sample_lowmasses)\n",
    "    sample_Jmags = inter_Jmags(sample_lowmasses)\n",
    "    sample_Hmags = inter_Hmags(sample_lowmasses)\n",
    "    sample_Fmags = inter_Fmags(sample_lowmasses)\n",
    "    lumfunc_R, R_edges = np.histogram(sample_Rmags, range = [np.min(sample_Rmags), np.max(sample_Rmags)], bins = 100)\n",
    "    lumfunc_Z, Z_edges = np.histogram(sample_Zmags, range = [np.min(sample_Zmags), np.max(sample_Zmags)], bins = 100)\n",
    "    lumfunc_Y, Y_edges = np.histogram(sample_Ymags, range = [np.min(sample_Ymags), np.max(sample_Ymags)], bins = 100)\n",
    "    lumfunc_J, J_edges = np.histogram(sample_Jmags, range = [np.min(sample_Jmags), np.max(sample_Jmags)], bins = 100)\n",
    "    lumfunc_H, H_edges = np.histogram(sample_Hmags, range = [np.min(sample_Hmags), np.max(sample_Hmags)], bins = 100)\n",
    "    lumfunc_F, F_edges = np.histogram(sample_Fmags, range = [np.min(sample_Fmags), np.max(sample_Fmags)], bins = 100)\n",
    "    lum_R = R_edges[:-1]+0.5*(R_edges[1:]-R_edges[:-1])\n",
    "    lum_Z = Z_edges[:-1]+0.5*(Z_edges[1:]-Z_edges[:-1])\n",
    "    lum_Y = Y_edges[:-1]+0.5*(Y_edges[1:]-Y_edges[:-1])\n",
    "    lum_J = J_edges[:-1]+0.5*(J_edges[1:]-J_edges[:-1])\n",
    "    lum_H = H_edges[:-1]+0.5*(H_edges[1:]-H_edges[:-1])\n",
    "    lum_F = F_edges[:-1]+0.5*(F_edges[1:]-F_edges[:-1])\n",
    "    np.savetxt('WFIRST_PARSEC_lumfunc_isochrone%d_allbands.txt' %i, \n",
    "               np.concatenate((np.reshape(lum_R, (len(lum_R),1)), np.reshape(lumfunc_R, (len(lum_R),1)), \n",
    "                               np.reshape(lum_Z, (len(lum_Z),1)), np.reshape(lumfunc_Z, (len(lum_Z),1)),\n",
    "                               np.reshape(lum_Y, (len(lum_Y),1)), np.reshape(lumfunc_Y, (len(lum_Y),1)),\n",
    "                               np.reshape(lum_J, (len(lum_J),1)), np.reshape(lumfunc_J, (len(lum_J),1)),\n",
    "                               np.reshape(lum_H, (len(lum_H),1)), np.reshape(lumfunc_H, (len(lum_H),1)),\n",
    "                               np.reshape(lum_F, (len(lum_F),1)), np.reshape(lumfunc_F, (len(lum_F),1))\n",
    "                              ), axis = 1), \n",
    "               header = 'lumR, num, lumZ, num, lumY, num, lumJ, num, lumH, num, lumF, num; total number of stars in each luminosity function = %d' %num)\n",
    "    print (\"done\", i, \"of\", len(start_age))\n",
    "#fig, ax = plt.subplots(1,1, figsize=[6,4])\n",
    "#ax.set_ylabel('number')\n",
    "#ax.set_xlabel('R')\n",
    "#ax.set_title('luminosity function from IMF sampling sample')\n",
    "#h, be, p = ax.hist(sample_Rmags, bins = 100, range = [np.min(sample_Rmags), np.max(sample_Rmags)])  "
   ]
  },
  {
   "cell_type": "code",
   "execution_count": null,
   "metadata": {},
   "outputs": [],
   "source": []
  }
 ],
 "metadata": {
  "kernelspec": {
   "display_name": "Python 3 (ipykernel)",
   "language": "python",
   "name": "python3"
  },
  "language_info": {
   "codemirror_mode": {
    "name": "ipython",
    "version": 3
   },
   "file_extension": ".py",
   "mimetype": "text/x-python",
   "name": "python",
   "nbconvert_exporter": "python",
   "pygments_lexer": "ipython3",
   "version": "3.9.7"
  }
 },
 "nbformat": 4,
 "nbformat_minor": 2
}
