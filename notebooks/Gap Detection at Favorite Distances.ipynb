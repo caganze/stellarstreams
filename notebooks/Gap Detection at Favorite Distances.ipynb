{
 "cells": [
  {
   "cell_type": "code",
   "execution_count": 1,
   "id": "73a88275",
   "metadata": {},
   "outputs": [],
   "source": [
    "#imports \n",
    "import astropy.units as u\n",
    "import numpy as np\n",
    "import popsims #custom libray for plotting aesthetics\n",
    "import matplotlib.pyplot as plt\n",
    "#%matplotlib notebook\n",
    "from sklearn.preprocessing import MinMaxScaler\n",
    "\n",
    "\n",
    "#import HSS\n",
    "import seaborn as sns\n",
    "import matplotlib as mpl\n",
    "\n",
    "\n",
    "import pandas as pd\n",
    "sns.set_style(\"dark\")\n",
    "mpl.rc('xtick', labelsize=16) \n",
    "mpl.rc('ytick', labelsize=16) \n",
    "font = {'axes.titlesize'      : 'large',   # fontsize of the axes title\n",
    "        'axes.labelsize'      : 'large', # fontsize of the x any y labels\n",
    "        'size'   : 20}\n",
    "\n",
    "\n",
    "from findthegap.gapper import Gapper\n",
    "import torch\n",
    "#paths\n",
    "path_plot = '/users/caganze/research/stellarstreams/figures/paper/'\n",
    "#path_data = '/users/caganze/research/stellarstreams/data/rotating/'\n",
    "path_data = '/users/caganze/research/stellarstreams/data/stream/'\n",
    "isochrone_path='/users/caganze/research/stellarstreams/data/isochrones/'\n",
    "\n"
   ]
  },
  {
   "cell_type": "code",
   "execution_count": 2,
   "id": "4043c88a",
   "metadata": {},
   "outputs": [],
   "source": [
    "    \n",
    "def get_cutout_distance(mhalo, mag_limit, dmod):\n",
    "    filename=path_data+'/gaps_at_OTHER{:.2f}Mhalo={:.2e}_maglimit{}_cutout.txt'.format(dmod, mhalo, mag_limit)\n",
    "    return pd.read_csv(filename).values"
   ]
  },
  {
   "cell_type": "code",
   "execution_count": null,
   "id": "92d4aba2",
   "metadata": {},
   "outputs": [],
   "source": [
    "#manually select bandwidths "
   ]
  }
 ],
 "metadata": {
  "kernelspec": {
   "display_name": "Python 3 (ipykernel)",
   "language": "python",
   "name": "python3"
  },
  "language_info": {
   "codemirror_mode": {
    "name": "ipython",
    "version": 3
   },
   "file_extension": ".py",
   "mimetype": "text/x-python",
   "name": "python",
   "nbconvert_exporter": "python",
   "pygments_lexer": "ipython3",
   "version": "3.9.7"
  }
 },
 "nbformat": 4,
 "nbformat_minor": 5
}
