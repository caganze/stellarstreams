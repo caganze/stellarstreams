{
 "cells": [
  {
   "cell_type": "code",
   "execution_count": 1,
   "metadata": {},
   "outputs": [],
   "source": [
    "#imports\n",
    "import astropy.units as u\n",
    "import numpy as np\n",
    "import gala.potential as gp\n",
    "import gala.dynamics as gd\n",
    "from gala.dynamics import mockstream as ms\n",
    "from gala.units import galactic\n",
    "from astropy.coordinates import SkyCoord, Distance\n",
    "#import popsims\n",
    "import matplotlib.pyplot as plt\n",
    "#%matplotlib notebook\n",
    "from tqdm import tqdm\n",
    "from astropy.constants import G\n",
    "import HSS\n",
    "from gala.units import galactic\n",
    "import gala.coordinates as gc\n",
    "import  h5py\n",
    "import imageio\n",
    "import seaborn as sns\n",
    "import matplotlib as mpl\n",
    "import matplotlib.animation as animation\n",
    "import astropy.coordinates as astro_coord\n",
    "sns.set_style(\"dark\")\n",
    "mpl.rc('xtick', labelsize=16) \n",
    "mpl.rc('ytick', labelsize=16) \n",
    "font = {#'family' : 'Helvetica',\n",
    "        'size'   : 16}\n",
    "from shapey import Box\n",
    "%matplotlib inline"
   ]
  },
  {
   "cell_type": "code",
   "execution_count": 2,
   "metadata": {},
   "outputs": [],
   "source": [
    "path_plot = '/users/caganze/research/stellarstreams/figures/streamssims/'\n",
    "path_data = '/users/caganze/research/stellarstreams/data/'\n",
    "_ = astro_coord.galactocentric_frame_defaults.set('v4.0')\n",
    "pot=gp.MilkyWayPotential()\n",
    "H = gp.Hamiltonian(pot)"
   ]
  },
  {
   "cell_type": "code",
   "execution_count": 3,
   "metadata": {},
   "outputs": [],
   "source": [
    "#load pre-made stream  \n",
    "#stream_data= np.load(path_data+'/fav_andromeda_stream_mass100000000.0.npy', allow_pickle=True).flatten()[0]"
   ]
  },
  {
   "cell_type": "code",
   "execution_count": 4,
   "metadata": {},
   "outputs": [],
   "source": [
    "def generate_stream_and_perturber(mass, prog_w0, timedict,  nbody=None, output_every=None,\n",
    "                                  output_filename=None):\n",
    "    \"\"\"\n",
    "    Input: mass of the progenitor, its position, other mockstream generator kwrargs\n",
    "    Returns: final stream and its position and velocity\n",
    "    \n",
    "    Calls mockstream generator\n",
    "    \n",
    "    \"\"\"\n",
    "    df = ms.FardalStreamDF()\n",
    "    prog_mass = mass * u.Msun\n",
    "    gen = ms.MockStreamGenerator(df, H)\n",
    "\n",
    "    return gen.run(prog_w0, prog_mass, nbody=nbody,\\\n",
    "                   output_every=output_every, output_filename= output_filename, \\\n",
    "                check_filesize=True, overwrite=True, n_particles=5,  progress=True, **timedict)\n",
    "\n",
    "def run_stream_and_subhalo(halo_mass, stream_mass, halo_r, halo_pos, stream_pos, timedict,\n",
    "                           filename='mockstream',\n",
    "                            output_every=1, potential_type='plummer'):\n",
    "    \"\"\"\n",
    "    runs a subhalo and a stream \n",
    "    \n",
    "    returns the progenitor position and the final stream\n",
    "    \n",
    "    Takes in the parameters of the subhalos\n",
    "    \n",
    "    \"\"\"\n",
    "    \n",
    "    #create a plummer sphere \n",
    "    point_potential=gp.PlummerPotential(halo_mass*u.Msun,  halo_r, units=galactic)\n",
    "    \n",
    "    #if potential_type\n",
    "    if  potential_type.lower()=='hernquist':\n",
    "        point_potential=gp.HernquistPotential(halo_mass*u.Msun,  halo_r, units=galactic)\n",
    "        \n",
    "    #create an Nbody potential object\n",
    "    Massive_body=gd.DirectNBody(halo_pos, [point_potential], external_potential=pot)\n",
    "    \n",
    "    return  generate_stream_and_perturber(stream_mass,  stream_pos, timedict, \\\n",
    "                                      nbody=Massive_body,\n",
    "                                    output_every=output_every, \\\n",
    "                                    output_filename=path_data+'/'+filename+'.h5')\n",
    "\n",
    "def read_stream_file(filename):\n",
    "    \"\"\"\n",
    "    reads in a saved stream run \n",
    "    returns the subhalo, progenitor and stream\n",
    "    \"\"\"\n",
    "    print (filename)\n",
    "    f = h5py.File(path_data+'/'+filename, mode='r')\n",
    "    \n",
    "    body=f['nbody']\n",
    "    stream_cont=f['stream']\n",
    "    return body, stream_cont\n",
    "\n",
    "def plot_stream_and_body(idx, stream_cont, body, time_dict, \\\n",
    "                        xlim=[-5, 5], ylim=[-5, 5], zlim=[-5, 5]):\n",
    "    \n",
    "    body_pos=body['pos']\n",
    "    stream_pos=stream_cont['pos']\n",
    "    \n",
    "    stream_vel=stream_cont['vel']\n",
    "    stream_velz=(stream_vel[-1][idx]*u.kpc/u.Myr).to(u.km/u.s).value\n",
    "    #stream_velz= stream_velz)\n",
    "    \n",
    "    if 't' in time_dict.keys():\n",
    "        t=time_dict['t'][idx]\n",
    "    else:\n",
    "        t= time_dict['tmin']+20*idx*time_dict['dt']\n",
    "    t=t.to(u.Myr)\n",
    "    \n",
    "    fig, (ax, ax1, ax2)=plt.subplots(figsize=(12, 4), ncols=3)\n",
    "    \n",
    "    fig.suptitle('T = {}  Timesetep = {}'.format(t,idx ), fontsize=16)\n",
    "\n",
    "    \n",
    "    ax.scatter(stream_pos[0][idx], stream_pos[1][idx], s=1, alpha=0.5, \\\n",
    "               c= stream_velz, label='Stream',  cmap='viridis', vmin=-120, vmax=120)\n",
    "    ax.scatter(body_pos[0][idx], body_pos[1][idx],  s=100, alpha=0.5, c=['b', 'r'], label='Particle')\n",
    "    \n",
    "    \n",
    "    ax1.scatter(stream_pos[0][idx], stream_pos[-1][idx],  s=1, alpha=0.5, \\\n",
    "                c= stream_velz,\\\n",
    "                label='Stream', cmap='viridis', vmin=-120, vmax=120)\n",
    "    ax1.scatter(body_pos[0][idx], body_pos[-1][idx],  s=100, alpha=0.5, c=['b', 'r'], label='Particle')\n",
    "    \n",
    "    c=ax2.scatter(stream_pos[1][idx], stream_pos[-1][idx],  s=1, alpha=0.5,  \\\n",
    "                c=stream_velz,\\\n",
    "                label='Stream',  cmap='viridis',  vmin=-120, vmax=120)\n",
    "    ax2.scatter(body_pos[1][idx], body_pos[-1][idx],  s=100, alpha=0.5, c=['b', 'r'], label='Particle')\n",
    "    \n",
    "   \n",
    "    \n",
    "\n",
    "    ax.minorticks_on()\n",
    "    ax1.minorticks_on()\n",
    "\n",
    "    #ax1.legend(fontsize=14)\n",
    "    ax.set(xlabel='x (pc)', ylabel='y (pc)')\n",
    "    ax1.set(xlabel='x (pc)', ylabel='z (pc)')\n",
    "    ax2.set(xlabel=r'y (pc)', ylabel='z (pc)')\n",
    "    \n",
    "    cbar= plt.colorbar(c)\n",
    "    cbar.ax.set(ylabel='Vz (km/s)')\n",
    "    \n",
    "    #ax.set(xlim=xlim, ylim=ylim)\n",
    "    #ax1.set(xlim=xlim, ylim=zlim)\n",
    "    #ax2.set(xlim=ylim, ylim=zlim)\n",
    "    \n",
    "    plt.tight_layout()\n",
    "    \n",
    "    \n",
    "    # IMPORTANT ANIMATION CODE HERE\n",
    "    # Used to keep the limits constant\n",
    "\n",
    "    # Used to return the plot as an image rray\n",
    "    fig.canvas.draw()       # draw the canvas, cache the renderer\n",
    "    image = np.frombuffer(fig.canvas.tostring_rgb(), dtype='uint8')\n",
    "    image  = image.reshape(fig.canvas.get_width_height()[::-1] + (3,))\n",
    "\n",
    "\n",
    "    return image"
   ]
  },
  {
   "cell_type": "code",
   "execution_count": 5,
   "metadata": {},
   "outputs": [],
   "source": [
    "#present day coordinates\n",
    "mstream=3e4*u.Msun\n",
    "mhalo=1e7\n",
    "halo_r=1*u.pc\n",
    "tintegrate=2*u.Gyr #in myr\n",
    "tmax=tintegrate+1000*u.Myr\n",
    "tfinal=6*u.Gyr\n",
    "tmin=0.*u.Gyr\n",
    "nsteps=300\n",
    "vhalo=-200\n",
    "filename='palomar5_stream_mhalo{:.2e}'.format(mhalo)"
   ]
  },
  {
   "cell_type": "code",
   "execution_count": 6,
   "metadata": {},
   "outputs": [],
   "source": [
    "coord=SkyCoord('15:16:05.3 -00:06:41',  unit=(u.hourangle, u.deg), \n",
    "               pm_ra_cosdec=-2.75*u.mas/u.yr, pm_dec=-2.69*u.mas/u.yr, distance=21*u.kpc-8*u.kpc, \n",
    "              radial_velocity= -57.4*u.km/u.s)\n",
    "st_pos = gd.PhaseSpacePosition(coord.galactic.cartesian)"
   ]
  },
  {
   "cell_type": "code",
   "execution_count": 7,
   "metadata": {},
   "outputs": [
    {
     "name": "stdout",
     "output_type": "stream",
     "text": [
      "Integrating orbits:  100%"
     ]
    }
   ],
   "source": [
    "#create a stream like palomar 5\n",
    "#generate stream back\n",
    "time_dict_stream={ 'dt':-10*u.Myr, 't1':0.*u.Myr, 't2':-tintegrate}\n",
    "df = ms.FardalStreamDF()\n",
    "prog_mass = mstream* u.Msun\n",
    "gen = ms.MockStreamGenerator(df, H)\n",
    "mock_st, mock_pos=gen.run(st_pos, mstream, **time_dict_stream, nbody=None, n_particles=5, progress=True)"
   ]
  },
  {
   "cell_type": "code",
   "execution_count": 8,
   "metadata": {},
   "outputs": [
    {
     "name": "stdout",
     "output_type": "stream",
     "text": [
      "/opt/anaconda3/lib/python3.8/site-packages/astropy/coordinates/baseframe.py:1207: AstropyDeprecationWarning: Transforming a frame instance to a frame class (as opposed to another frame instance) will not be supported in the future.  Either explicitly instantiate the target frame, or first convert the source frame instance to a `astropy.coordinates.SkyCoord` and use its `transform_to()` method.\n",
      "  warnings.warn(\"Transforming a frame instance to a frame class (as opposed to another \"\n",
      "\n"
     ]
    }
   ],
   "source": [
    "moc_icrs= mock_st.to_coord_frame(astro_coord.ICRS)"
   ]
  },
  {
   "cell_type": "code",
   "execution_count": 9,
   "metadata": {},
   "outputs": [],
   "source": [
    "#rank objects by their distance from the center, pick an object close but not too close\n"
   ]
  },
  {
   "cell_type": "code",
   "execution_count": 10,
   "metadata": {},
   "outputs": [],
   "source": [
    "#add a gap\n",
    "#put a random position\n",
    "col_idx= np.random.choice(len(mock_st.z))\n",
    "d_from_center=((mock_st.x-mock_pos.x)**2+(mock_st.y-mock_pos.y)**2+(mock_st.z-mock_pos.z)**2)**0.5\n",
    "col_idx=np.argsort(d_from_center)[1000]\n",
    "collision_pos=mock_st.xyz[:, col_idx]\n",
    "collision_phase_space_pos=gd.PhaseSpacePosition(pos=collision_pos,\n",
    "                                vel=[0, 0, vhalo] * u.km/u.s)\n",
    "#integrate it back\n",
    "collision_orbit= gp.Hamiltonian(pot).integrate_orbit(collision_phase_space_pos,  dt=-1*u.Myr,\\\n",
    "                                                     t1=0.*u.Myr, t2=-tintegrate*u.Myr)"
   ]
  },
  {
   "cell_type": "code",
   "execution_count": 11,
   "metadata": {},
   "outputs": [
    {
     "data": {
      "text/latex": [
       "$[9.6019652,~2.8085576,~9.6250567] \\; \\mathrm{kpc}$"
      ],
      "text/plain": [
       "<Quantity [9.60196517, 2.80855762, 9.62505666] kpc>"
      ]
     },
     "execution_count": 11,
     "metadata": {},
     "output_type": "execute_result"
    }
   ],
   "source": [
    "collision_pos"
   ]
  },
  {
   "cell_type": "code",
   "execution_count": 12,
   "metadata": {},
   "outputs": [
    {
     "data": {
      "image/png": "[encoded data removed]",
      "text/plain": [
       "<Figure size 432x432 with 1 Axes>"
      ]
     },
     "metadata": {
      "needs_background": "light"
     },
     "output_type": "display_data"
    }
   ],
   "source": [
    "#visualize \n",
    "fig, ax=plt.subplots(figsize=(6, 6))\n",
    "\n",
    "ax.scatter(mock_st.x, \\\n",
    "           mock_st.y,  s=1, alpha=0.5, c='k')\n",
    "ax.scatter(mock_pos.x, mock_pos.y, s=100, c='r')\n",
    "ax.scatter(collision_pos[0], collision_pos[1], s=100, marker='x', c='b')\n",
    "ax.set(xlabel='x (kpc)',\n",
    "       ylabel='y (kpc)')\n",
    "#ax.set(xlim=[245, 255], ylim=[-10, 2.5])\n",
    "plt.tight_layout()"
   ]
  },
  {
   "cell_type": "code",
   "execution_count": 13,
   "metadata": {},
   "outputs": [],
   "source": [
    "#stream progenitor at t=0\n",
    "stream_orbit= gp.Hamiltonian(pot).integrate_orbit(mock_pos,  dt=-1*u.Myr,\\\n",
    "                                                     t1=0.*u.Myr, t2=-tintegrate*u.Myr)"
   ]
  },
  {
   "cell_type": "code",
   "execution_count": 14,
   "metadata": {},
   "outputs": [
    {
     "data": {
      "text/latex": [
       "$[-15.855024,~1.6001041,~-8.0214721] \\; \\mathrm{kpc}$"
      ],
      "text/plain": [
       "<Quantity [-15.85502398,   1.60010411,  -8.02147212] kpc>"
      ]
     },
     "execution_count": 14,
     "metadata": {},
     "output_type": "execute_result"
    }
   ],
   "source": [
    "stream_orbit[-1].xyz"
   ]
  },
  {
   "cell_type": "code",
   "execution_count": 15,
   "metadata": {},
   "outputs": [],
   "source": [
    " time_dict= {'t':np.linspace(0, tmax, int(nsteps*3))}"
   ]
  },
  {
   "cell_type": "code",
   "execution_count": 16,
   "metadata": {},
   "outputs": [
    {
     "name": "stdout",
     "output_type": "stream",
     "text": [
      "Integrating orbits:  100%"
     ]
    }
   ],
   "source": [
    "#integrate subhalo and stream in time \n",
    "#create this as the halo orbit\n",
    "collision_halo_pos=gd.PhaseSpacePosition(pos=collision_orbit.xyz[:,-1],\n",
    "                              vel=collision_orbit.v_xyz[:,-1])\n",
    "stream_pos_t0=gd.PhaseSpacePosition(pos=stream_orbit[-1].xyz,\n",
    "                              vel=stream_orbit[-1].v_xyz)\n",
    "#collision_halo_pos=collision_orbit[-1]\n",
    "#run it forard in time ith the stream\n",
    "col_stream, col_pos =  run_stream_and_subhalo(mhalo, mstream, halo_r, collision_halo_pos, \\\n",
    "                                           stream_pos_t0 ,  time_dict,\n",
    "                           filename=filename,   potential_type='herquinst')"
   ]
  },
  {
   "cell_type": "code",
   "execution_count": null,
   "metadata": {},
   "outputs": [],
   "source": []
  },
  {
   "cell_type": "code",
   "execution_count": 17,
   "metadata": {},
   "outputs": [
    {
     "name": "stdout",
     "output_type": "stream",
     "text": [
      "palomar5_stream_mhalo1.00e+07.h5\n"
     ]
    }
   ],
   "source": [
    "bdy_all, stream_all=read_stream_file(filename+'.h5')\n",
    "dt= abs(time_dict['t'].value[1]-time_dict['t'].value[0])\n",
    "idxs=np.logical_and(time_dict['t'] >tintegrate-50*u.Myr, time_dict['t'] <tintegrate+50*u.Myr)\n",
    "steps=np.arange(len(time_dict['t'].value))[idxs]"
   ]
  },
  {
   "cell_type": "code",
   "execution_count": 18,
   "metadata": {},
   "outputs": [
    {
     "data": {
      "text/plain": [
       "30"
      ]
     },
     "execution_count": 18,
     "metadata": {},
     "output_type": "execute_result"
    }
   ],
   "source": [
    "len(steps)"
   ]
  },
  {
   "cell_type": "code",
   "execution_count": 19,
   "metadata": {
    "scrolled": true
   },
   "outputs": [],
   "source": [
    "if False:\n",
    "    for s in steps:\n",
    "        st_snapshot=stream_all['pos'][:, s, :]\n",
    "\n",
    "        st_body, hl_body=(bdy_all['pos'][:, s, :]).T\n",
    "\n",
    "        fig, ax=plt.subplots(ncols=3, figsize=(12, 4))\n",
    "\n",
    "        ax[0].scatter( st_snapshot[0], st_snapshot[1], s=1, alpha=0.5)\n",
    "        ax[1].scatter( st_snapshot[0], st_snapshot[-1], s=1, alpha=0.5)\n",
    "        ax[-1].scatter( st_snapshot[1], st_snapshot[-1], s=1, alpha=0.5)\n",
    "\n",
    "        #ax[0].scater(st_body, )\n",
    "\n",
    "        ax[0].scatter(collision_pos[0], collision_pos[1], marker='x', s=100, c='k')\n",
    "        ax[1].scatter(collision_pos[0], collision_pos[-1], marker='x', s=100, c='k')\n",
    "        ax[-1].scatter(collision_pos[1], collision_pos[-1], marker='x', s=100, c='k')\n",
    "\n",
    "        for body in [st_body, hl_body]:\n",
    "\n",
    "            ax[0].scatter(body[0], body[1], marker='o', s=100)\n",
    "            ax[1].scatter(body[0], body[-1], marker='o', s=100)\n",
    "            ax[-1].scatter(body[1], body[-1], marker='o', s=100)\n",
    "\n",
    "        for a in ax:\n",
    "            a.minorticks_on()\n",
    "\n",
    "        ax[0].set( xlabel='x (pc)', ylabel=' y (pc)')\n",
    "        ax[1].set( xlabel='x (pc)', ylabel=' z (pc)')\n",
    "        ax[-1].set( xlabel='y (pc)', ylabel=' z (pc)')\n",
    "        #cbar=plt.colorbar(c)\n",
    "        plt.tight_layout()"
   ]
  },
  {
   "cell_type": "code",
   "execution_count": 20,
   "metadata": {},
   "outputs": [
    {
     "data": {
      "text/latex": [
       "$3 \\; \\mathrm{Gyr}$"
      ],
      "text/plain": [
       "<Quantity 3. Gyr>"
      ]
     },
     "execution_count": 20,
     "metadata": {},
     "output_type": "execute_result"
    }
   ],
   "source": [
    "tfinal=6*u.Gyr\n",
    "tfinal-tmax"
   ]
  },
  {
   "cell_type": "code",
   "execution_count": 21,
   "metadata": {},
   "outputs": [],
   "source": [
    "#integrate in time\n",
    "time_dict_total={'t':np.linspace(0, tfinal-tmax, int(nsteps*5))}\n",
    "#integrate individual stars\n",
    "final_col_stream_pos=gd.PhaseSpacePosition(pos=col_stream.xyz,\n",
    "                                           vel=col_stream.v_xyz)\n",
    "final_progen_pos=gd.PhaseSpacePosition(pos=col_pos.xyz,\n",
    "                                           vel=col_pos.v_xyz)\n",
    "final_stream_orbit=gp.Hamiltonian(pot).integrate_orbit(final_col_stream_pos,  **time_dict_total)\n",
    "final_prog_orbit=gp.Hamiltonian(pot).integrate_orbit(final_progen_pos,  **time_dict_total)"
   ]
  },
  {
   "cell_type": "code",
   "execution_count": 22,
   "metadata": {},
   "outputs": [],
   "source": [
    "final_stream_coord=SkyCoord(x=final_stream_orbit.x[-1], y=final_stream_orbit.y[-1],\n",
    "                           z= final_stream_orbit.z[-1],frame='galactocentric')\n",
    "final_prog_coord=SkyCoord(x=final_prog_orbit.x[-1], y=final_prog_orbit.y[-1],  \\\n",
    "                         z=final_prog_orbit.z[-1], frame='galactocentric')"
   ]
  },
  {
   "cell_type": "code",
   "execution_count": 23,
   "metadata": {},
   "outputs": [],
   "source": [
    "def roman_fov(center, xextent, yextent):\n",
    "    b=Box()\n",
    "    x_min, x_max =center[0]- xextent/2, center[0]+ xextent/2\n",
    "    y_min, y_max =center[-1]- yextent/2, center[-1]+ yextent/2\n",
    "    v1= (x_min, y_min)\n",
    "    v2=(x_min, y_max)\n",
    "    v4= (x_max, y_min)\n",
    "    v3=(x_max,y_max)\n",
    "\n",
    "    b.vertices=[v1, v2, v3, v4, v1]\n",
    "    #b._data=[ra,## dec]\n",
    "    return b"
   ]
  },
  {
   "cell_type": "code",
   "execution_count": 24,
   "metadata": {},
   "outputs": [
    {
     "data": {
      "image/png": "[encoded data removed]",
      "text/plain": [
       "<Figure size 864x288 with 1 Axes>"
      ]
     },
     "metadata": {
      "needs_background": "light"
     },
     "output_type": "display_data"
    }
   ],
   "source": [
    "#visualize in the mikly ay\n",
    "fig, ax=plt.subplots(figsize=(12, 4))\n",
    "\n",
    "ax.scatter(final_stream_coord.x, \\\n",
    "           final_stream_coord.y,  s=1, alpha=0.05, c='k')\n",
    "ax.scatter(final_prog_coord.x[0], \\\n",
    "           final_prog_coord.y[0],  s=100, c='b')\n",
    "ax.set(xlabel='x (kpc)',\n",
    "       ylabel='y (kpc)')\n",
    "#ax.set(xlim=[-15, -5], ylim=[-15, 15])\n",
    "plt.tight_layout()"
   ]
  },
  {
   "cell_type": "code",
   "execution_count": 25,
   "metadata": {},
   "outputs": [
    {
     "ename": "NameError",
     "evalue": "name 'fgj' is not defined",
     "output_type": "error",
     "traceback": [
      "\u001b[0;31m---------------------------------------------------------------------------\u001b[0m",
      "\u001b[0;31mNameError\u001b[0m                                 Traceback (most recent call last)",
      "\u001b[0;32m<ipython-input-25-e6f02a8cd221>\u001b[0m in \u001b[0;36m<module>\u001b[0;34m\u001b[0m\n\u001b[0;32m----> 1\u001b[0;31m \u001b[0mfgj\u001b[0m\u001b[0;34m\u001b[0m\u001b[0;34m\u001b[0m\u001b[0m\n\u001b[0m",
      "\u001b[0;31mNameError\u001b[0m: name 'fgj' is not defined"
     ]
    }
   ],
   "source": [
    "fgj"
   ]
  },
  {
   "cell_type": "code",
   "execution_count": null,
   "metadata": {},
   "outputs": [],
   "source": [
    "(13.67*u.kpc/u.degree).to(u.pc/u.arcmin)"
   ]
  },
  {
   "cell_type": "code",
   "execution_count": null,
   "metadata": {},
   "outputs": [],
   "source": [
    "#scaled roman FOV\n",
    "scaled_fov= 0.52*u.degree*(13.67*u.kpc/u.degree)"
   ]
  },
  {
   "cell_type": "code",
   "execution_count": null,
   "metadata": {},
   "outputs": [],
   "source": [
    "scaled_arcmin= (10*u.arcmin.to(u.degree)*u.degree)*(13.67*u.kpc/u.degree)"
   ]
  },
  {
   "cell_type": "code",
   "execution_count": null,
   "metadata": {},
   "outputs": [],
   "source": [
    "(0.53*u.degree).to(u.arcmin)"
   ]
  },
  {
   "cell_type": "code",
   "execution_count": null,
   "metadata": {},
   "outputs": [],
   "source": [
    "scaled_fov"
   ]
  },
  {
   "cell_type": "code",
   "execution_count": null,
   "metadata": {},
   "outputs": [],
   "source": [
    "scaled_arcmin"
   ]
  },
  {
   "cell_type": "code",
   "execution_count": null,
   "metadata": {},
   "outputs": [],
   "source": [
    "#scale on the scale of andromeda \n",
    "bx=roman_fov((3.75, -11.5), scaled_fov.value, scaled_fov.value)\n",
    "bx.color='red'\n",
    "bx.alpha=0.1"
   ]
  },
  {
   "cell_type": "code",
   "execution_count": null,
   "metadata": {},
   "outputs": [],
   "source": [
    "#visualize in the mikly ay\n",
    "fig, ax=plt.subplots(figsize=(8, 6))\n",
    "\n",
    "bx.plot(ax=ax)\n",
    "\n",
    "ax.plot((3.8, 6.15),  (0, 0), lw=10, c='g', linestyle='-')\n",
    "\n",
    "ax.scatter(final_stream_coord.x, \\\n",
    "           final_stream_coord.y,  s=1, alpha=0.1, c='k')\n",
    "ax.scatter(final_prog_coord.x[0], \\\n",
    "           final_prog_coord.y[0],  s=100, alpha=1, c='b')\n",
    "ax.set_xlabel('x (kpc)', fontsize=18)\n",
    "ax.set_ylabel('y (kpc)', fontsize=18)\n",
    "ax.set(xlim=[-5, 10], ylim=[-17., -6.])\n",
    "\n",
    "ax.minorticks_on()\n",
    "ax.text(4.3, -7.5, r'10 arcmin', fontsize=16)\n",
    "plt.tight_layout()\n",
    "plt.savefig(path_plot+'/pal5_streamer_subhalo_mass{:.2e}_vhalo{:.2e}.pdf'.format(mhalo, vhalo))"
   ]
  },
  {
   "cell_type": "code",
   "execution_count": null,
   "metadata": {},
   "outputs": [],
   "source": [
    "np.sqrt(0.28*u.degree**2)"
   ]
  },
  {
   "cell_type": "code",
   "execution_count": null,
   "metadata": {},
   "outputs": [],
   "source": [
    "0.53*0.53"
   ]
  },
  {
   "cell_type": "code",
   "execution_count": null,
   "metadata": {},
   "outputs": [],
   "source": [
    "0.14*u.degree.to(u.arcmin)"
   ]
  },
  {
   "cell_type": "code",
   "execution_count": null,
   "metadata": {},
   "outputs": [],
   "source": [
    "andr_distance= 770*u.kpc\n",
    "andr_vc= 250*u.km/u.s\n",
    "milky_vc= 217*u.km/u.s"
   ]
  },
  {
   "cell_type": "code",
   "execution_count": null,
   "metadata": {},
   "outputs": [],
   "source": [
    "#length and ith of the stream \n",
    "#procedure \n",
    "def compute_width(m, vc, Rgc):\n",
    "    return Rgc*((m*G/(vc**2*Rgc))**(1/3))\n",
    "\n",
    "def compute_physical_length(Rgc, m, vc, t):\n",
    "    return  ((m*vc/Rgc)**(1/3))*t\n",
    "\n",
    "def scale_stream(x, y, z, size_scale, length_scale):\n",
    "    \n",
    "    return "
   ]
  },
  {
   "cell_type": "code",
   "execution_count": null,
   "metadata": {},
   "outputs": [],
   "source": [
    "\n",
    "#plt.savefig(path_plot+'/distant_stream_plus_gaps_sky.jpeg', dpi=80)"
   ]
  },
  {
   "cell_type": "code",
   "execution_count": null,
   "metadata": {},
   "outputs": [],
   "source": [
    "#put pal 5 in M31?\n",
    "w0=compute_width(mstream, milky_vc, 21.*u.kpc).to(u.kpc)"
   ]
  },
  {
   "cell_type": "code",
   "execution_count": null,
   "metadata": {},
   "outputs": [],
   "source": [
    "(w0/(21*u.kpc))*u.radian.to(u.degree)"
   ]
  },
  {
   "cell_type": "code",
   "execution_count": null,
   "metadata": {},
   "outputs": [],
   "source": [
    "58/411"
   ]
  },
  {
   "cell_type": "code",
   "execution_count": null,
   "metadata": {},
   "outputs": [],
   "source": [
    "w=compute_width(mstream, andr_vc, 21.*u.kpc).to(u.kpc)"
   ]
  },
  {
   "cell_type": "code",
   "execution_count": null,
   "metadata": {},
   "outputs": [],
   "source": [
    "w"
   ]
  },
  {
   "cell_type": "code",
   "execution_count": null,
   "metadata": {},
   "outputs": [],
   "source": [
    "(w/(770*u.kpc))*u.radian.to(u.arcmin)"
   ]
  },
  {
   "cell_type": "code",
   "execution_count": null,
   "metadata": {},
   "outputs": [],
   "source": [
    "(0.73*u.degree).to(u.arcmin)"
   ]
  },
  {
   "cell_type": "code",
   "execution_count": null,
   "metadata": {},
   "outputs": [],
   "source": [
    "'{:.2e}'.format(1e5)"
   ]
  },
  {
   "cell_type": "code",
   "execution_count": null,
   "metadata": {},
   "outputs": [],
   "source": [
    "vhalo"
   ]
  },
  {
   "cell_type": "code",
   "execution_count": null,
   "metadata": {},
   "outputs": [],
   "source": []
  }
 ],
 "metadata": {
  "kernelspec": {
   "display_name": "Python 3",
   "language": "python",
   "name": "python3"
  },
  "language_info": {
   "codemirror_mode": {
    "name": "ipython",
    "version": 3
   },
   "file_extension": ".py",
   "mimetype": "text/x-python",
   "name": "python",
   "nbconvert_exporter": "python",
   "pygments_lexer": "ipython3",
   "version": "3.8.5"
  }
 },
 "nbformat": 4,
 "nbformat_minor": 4
}
